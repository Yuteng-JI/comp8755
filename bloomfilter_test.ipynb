{
 "cells": [
  {
   "cell_type": "code",
   "execution_count": 64,
   "id": "bdbd564e",
   "metadata": {},
   "outputs": [],
   "source": [
    "import pandas as pd\n",
    "import random"
   ]
  },
  {
   "cell_type": "code",
   "execution_count": 43,
   "id": "e6f8b8f3",
   "metadata": {},
   "outputs": [
    {
     "data": {
      "text/plain": [
       "(0, 514)"
      ]
     },
     "execution_count": 43,
     "metadata": {},
     "output_type": "execute_result"
    }
   ],
   "source": [
    "data = pd.DataFrame(columns = df.columns)\n",
    "data.shape"
   ]
  },
  {
   "cell_type": "code",
   "execution_count": 44,
   "id": "e2db7c5e",
   "metadata": {},
   "outputs": [
    {
     "name": "stdout",
     "output_type": "stream",
     "text": [
      "1\n",
      "2\n",
      "3\n",
      "4\n",
      "5\n",
      "6\n",
      "7\n",
      "8\n",
      "9\n",
      "10\n",
      "11\n",
      "12\n",
      "13\n",
      "14\n",
      "15\n",
      "16\n",
      "17\n",
      "18\n",
      "19\n",
      "20\n",
      "21\n",
      "22\n"
     ]
    }
   ],
   "source": [
    "for i in range(1,23):\n",
    "    print(i)\n",
    "    df = pd.read_csv('./data/csv_data/chr'+str(i)+'.csv')\n",
    "    for p in range(2,357):\n",
    "        dfr = df[df['POS'] == pos_l[p]]\n",
    "        if(dfr.empty == False):\n",
    "            data = pd.concat([data,df[df['POS'] == pos_l[p]]])"
   ]
  },
  {
   "cell_type": "code",
   "execution_count": 55,
   "id": "5af1c25b",
   "metadata": {},
   "outputs": [
    {
     "data": {
      "text/plain": [
       "(91, 514)"
      ]
     },
     "execution_count": 55,
     "metadata": {},
     "output_type": "execute_result"
    }
   ],
   "source": [
    "data.shape"
   ]
  },
  {
   "cell_type": "code",
   "execution_count": 70,
   "id": "c7edd7d5",
   "metadata": {},
   "outputs": [
    {
     "data": {
      "text/plain": [
       "'SC_GMFUL5306338'"
      ]
     },
     "execution_count": 70,
     "metadata": {},
     "output_type": "execute_result"
    }
   ],
   "source": [
    "data.iloc[:,127].name"
   ]
  },
  {
   "cell_type": "code",
   "execution_count": 47,
   "id": "754c8827",
   "metadata": {},
   "outputs": [],
   "source": [
    "data.to_csv('./data/csv_data/selection.csv',index = False)"
   ]
  },
  {
   "cell_type": "code",
   "execution_count": 133,
   "id": "a729ebab",
   "metadata": {},
   "outputs": [],
   "source": [
    "c_indexs = [127, 128, 129, 130, 131, 132, 133, 148, 149, 150, 151, 160]\n",
    "f_indexs = [134, 135, 136, 137, 138, 139, 140, 152, 153, 154, 155, 166]\n",
    "m_indexs = [141, 142, 143, 144, 145, 146, 147, 156, 157, 158, 159, 'x']\n",
    "path = './data/person_all/'\n",
    "all_index = list(range(400,514))\n",
    "all_index = [i for i in all_index if i not in c_indexs]\n",
    "all_index = [i for i in all_index if i not in f_indexs]\n",
    "all_index = [i for i in all_index if i not in m_indexs]\n",
    "d = {'ID':[], 'Kin_Result':[], 'Stranger_Result':[]}\n",
    "result = pd.DataFrame(d)"
   ]
  },
  {
   "cell_type": "code",
   "execution_count": 134,
   "id": "d65844a1",
   "metadata": {},
   "outputs": [],
   "source": [
    "def calCs2(i):\n",
    "    st = random.choice(all_index)\n",
    "    s = data[data.iloc[:,st].isin([\"1|1\",\"0|0\"])]\n",
    "    #csa = s[(s.iloc[:,st] == \"1|1\") & (data.iloc[:,c_indexs[i]] != \"0|0\")]\n",
    "    #csb = s[(s.iloc[:,st] == \"0|0\") & (data.iloc[:,c_indexs[i]] != \"1|1\")]\n",
    "    csa1 = data[(data.iloc[:,st] == \"1|1\") & (data.iloc[:,c_indexs[i]] == \"0|1\")]\n",
    "    csa2 = data[(data.iloc[:,st] == \"1|1\") & (data.iloc[:,c_indexs[i]] == \"1|0\")]\n",
    "    csb1 = data[(data.iloc[:,st] == \"0|0\") & (data.iloc[:,c_indexs[i]] != \"0|1\")]\n",
    "    csb2 = data[(data.iloc[:,st] == \"0|0\") & (data.iloc[:,c_indexs[i]] != \"1|0\")]\n",
    "    cs = csa1.shape[0]+csb1.shape[0]+csa2.shape[0]+csb2.shape[0]\n",
    "    rs2 = round((cs)/s.shape[0],4)\n",
    "    return rs2"
   ]
  },
  {
   "cell_type": "code",
   "execution_count": 135,
   "id": "3cf86e33",
   "metadata": {
    "scrolled": true
   },
   "outputs": [
    {
     "name": "stderr",
     "output_type": "stream",
     "text": [
      "/var/folders/7q/9jgys8t94kg68mx3fyvrxnmh0000gn/T/ipykernel_3106/862107357.py:9: UserWarning: Boolean Series key will be reindexed to match DataFrame index.\n",
      "  cfb1 = f[(f.iloc[:,f_indexs[i]] == \"0|0\") & (data.iloc[:,c_indexs[i]] != \"0|1\")]\n",
      "/var/folders/7q/9jgys8t94kg68mx3fyvrxnmh0000gn/T/ipykernel_3106/862107357.py:10: UserWarning: Boolean Series key will be reindexed to match DataFrame index.\n",
      "  cfb2 = f[(f.iloc[:,f_indexs[i]] == \"0|0\") & (data.iloc[:,c_indexs[i]] != \"1|0\")]\n",
      "/var/folders/7q/9jgys8t94kg68mx3fyvrxnmh0000gn/T/ipykernel_3106/862107357.py:9: UserWarning: Boolean Series key will be reindexed to match DataFrame index.\n",
      "  cfb1 = f[(f.iloc[:,f_indexs[i]] == \"0|0\") & (data.iloc[:,c_indexs[i]] != \"0|1\")]\n",
      "/var/folders/7q/9jgys8t94kg68mx3fyvrxnmh0000gn/T/ipykernel_3106/862107357.py:10: UserWarning: Boolean Series key will be reindexed to match DataFrame index.\n",
      "  cfb2 = f[(f.iloc[:,f_indexs[i]] == \"0|0\") & (data.iloc[:,c_indexs[i]] != \"1|0\")]\n",
      "/var/folders/7q/9jgys8t94kg68mx3fyvrxnmh0000gn/T/ipykernel_3106/862107357.py:9: UserWarning: Boolean Series key will be reindexed to match DataFrame index.\n",
      "  cfb1 = f[(f.iloc[:,f_indexs[i]] == \"0|0\") & (data.iloc[:,c_indexs[i]] != \"0|1\")]\n",
      "/var/folders/7q/9jgys8t94kg68mx3fyvrxnmh0000gn/T/ipykernel_3106/862107357.py:10: UserWarning: Boolean Series key will be reindexed to match DataFrame index.\n",
      "  cfb2 = f[(f.iloc[:,f_indexs[i]] == \"0|0\") & (data.iloc[:,c_indexs[i]] != \"1|0\")]\n",
      "/var/folders/7q/9jgys8t94kg68mx3fyvrxnmh0000gn/T/ipykernel_3106/862107357.py:9: UserWarning: Boolean Series key will be reindexed to match DataFrame index.\n",
      "  cfb1 = f[(f.iloc[:,f_indexs[i]] == \"0|0\") & (data.iloc[:,c_indexs[i]] != \"0|1\")]\n",
      "/var/folders/7q/9jgys8t94kg68mx3fyvrxnmh0000gn/T/ipykernel_3106/862107357.py:10: UserWarning: Boolean Series key will be reindexed to match DataFrame index.\n",
      "  cfb2 = f[(f.iloc[:,f_indexs[i]] == \"0|0\") & (data.iloc[:,c_indexs[i]] != \"1|0\")]\n",
      "/var/folders/7q/9jgys8t94kg68mx3fyvrxnmh0000gn/T/ipykernel_3106/862107357.py:9: UserWarning: Boolean Series key will be reindexed to match DataFrame index.\n",
      "  cfb1 = f[(f.iloc[:,f_indexs[i]] == \"0|0\") & (data.iloc[:,c_indexs[i]] != \"0|1\")]\n",
      "/var/folders/7q/9jgys8t94kg68mx3fyvrxnmh0000gn/T/ipykernel_3106/862107357.py:10: UserWarning: Boolean Series key will be reindexed to match DataFrame index.\n",
      "  cfb2 = f[(f.iloc[:,f_indexs[i]] == \"0|0\") & (data.iloc[:,c_indexs[i]] != \"1|0\")]\n",
      "/var/folders/7q/9jgys8t94kg68mx3fyvrxnmh0000gn/T/ipykernel_3106/862107357.py:9: UserWarning: Boolean Series key will be reindexed to match DataFrame index.\n",
      "  cfb1 = f[(f.iloc[:,f_indexs[i]] == \"0|0\") & (data.iloc[:,c_indexs[i]] != \"0|1\")]\n",
      "/var/folders/7q/9jgys8t94kg68mx3fyvrxnmh0000gn/T/ipykernel_3106/862107357.py:10: UserWarning: Boolean Series key will be reindexed to match DataFrame index.\n",
      "  cfb2 = f[(f.iloc[:,f_indexs[i]] == \"0|0\") & (data.iloc[:,c_indexs[i]] != \"1|0\")]\n",
      "/var/folders/7q/9jgys8t94kg68mx3fyvrxnmh0000gn/T/ipykernel_3106/862107357.py:9: UserWarning: Boolean Series key will be reindexed to match DataFrame index.\n",
      "  cfb1 = f[(f.iloc[:,f_indexs[i]] == \"0|0\") & (data.iloc[:,c_indexs[i]] != \"0|1\")]\n",
      "/var/folders/7q/9jgys8t94kg68mx3fyvrxnmh0000gn/T/ipykernel_3106/862107357.py:10: UserWarning: Boolean Series key will be reindexed to match DataFrame index.\n",
      "  cfb2 = f[(f.iloc[:,f_indexs[i]] == \"0|0\") & (data.iloc[:,c_indexs[i]] != \"1|0\")]\n",
      "/var/folders/7q/9jgys8t94kg68mx3fyvrxnmh0000gn/T/ipykernel_3106/862107357.py:9: UserWarning: Boolean Series key will be reindexed to match DataFrame index.\n",
      "  cfb1 = f[(f.iloc[:,f_indexs[i]] == \"0|0\") & (data.iloc[:,c_indexs[i]] != \"0|1\")]\n",
      "/var/folders/7q/9jgys8t94kg68mx3fyvrxnmh0000gn/T/ipykernel_3106/862107357.py:10: UserWarning: Boolean Series key will be reindexed to match DataFrame index.\n",
      "  cfb2 = f[(f.iloc[:,f_indexs[i]] == \"0|0\") & (data.iloc[:,c_indexs[i]] != \"1|0\")]\n",
      "/var/folders/7q/9jgys8t94kg68mx3fyvrxnmh0000gn/T/ipykernel_3106/862107357.py:9: UserWarning: Boolean Series key will be reindexed to match DataFrame index.\n",
      "  cfb1 = f[(f.iloc[:,f_indexs[i]] == \"0|0\") & (data.iloc[:,c_indexs[i]] != \"0|1\")]\n",
      "/var/folders/7q/9jgys8t94kg68mx3fyvrxnmh0000gn/T/ipykernel_3106/862107357.py:10: UserWarning: Boolean Series key will be reindexed to match DataFrame index.\n",
      "  cfb2 = f[(f.iloc[:,f_indexs[i]] == \"0|0\") & (data.iloc[:,c_indexs[i]] != \"1|0\")]\n",
      "/var/folders/7q/9jgys8t94kg68mx3fyvrxnmh0000gn/T/ipykernel_3106/862107357.py:9: UserWarning: Boolean Series key will be reindexed to match DataFrame index.\n",
      "  cfb1 = f[(f.iloc[:,f_indexs[i]] == \"0|0\") & (data.iloc[:,c_indexs[i]] != \"0|1\")]\n",
      "/var/folders/7q/9jgys8t94kg68mx3fyvrxnmh0000gn/T/ipykernel_3106/862107357.py:10: UserWarning: Boolean Series key will be reindexed to match DataFrame index.\n",
      "  cfb2 = f[(f.iloc[:,f_indexs[i]] == \"0|0\") & (data.iloc[:,c_indexs[i]] != \"1|0\")]\n",
      "/var/folders/7q/9jgys8t94kg68mx3fyvrxnmh0000gn/T/ipykernel_3106/862107357.py:9: UserWarning: Boolean Series key will be reindexed to match DataFrame index.\n",
      "  cfb1 = f[(f.iloc[:,f_indexs[i]] == \"0|0\") & (data.iloc[:,c_indexs[i]] != \"0|1\")]\n",
      "/var/folders/7q/9jgys8t94kg68mx3fyvrxnmh0000gn/T/ipykernel_3106/862107357.py:10: UserWarning: Boolean Series key will be reindexed to match DataFrame index.\n",
      "  cfb2 = f[(f.iloc[:,f_indexs[i]] == \"0|0\") & (data.iloc[:,c_indexs[i]] != \"1|0\")]\n"
     ]
    }
   ],
   "source": [
    "for i in range(len(c_indexs)):\n",
    "    f = data[data.iloc[:,f_indexs[i]].isin([\"1|1\",\"0|0\"])]\n",
    "    #f = data[data.iloc[:,f_indexs[i]] == \"1|1\"]\n",
    "    \n",
    "    #s = data[data.iloc[:,st] == \"1|1\"]\n",
    "    \n",
    "    cfa1 = f[(f.iloc[:,f_indexs[i]] == \"1|1\") & (f.iloc[:,c_indexs[i]] == \"0|1\")]\n",
    "    cfa2 = f[(f.iloc[:,f_indexs[i]] == \"1|1\") & (f.iloc[:,c_indexs[i]] == \"1|0\")]\n",
    "    cfb1 = f[(f.iloc[:,f_indexs[i]] == \"0|0\") & (data.iloc[:,c_indexs[i]] != \"0|1\")]\n",
    "    cfb2 = f[(f.iloc[:,f_indexs[i]] == \"0|0\") & (data.iloc[:,c_indexs[i]] != \"1|0\")]\n",
    "    cf = cfa1.shape[0]+cfb1.shape[0]+cfa2.shape[0]+cfb2.shape[0]\n",
    "    rs1 = round(cf/f.shape[0],4)/2\n",
    "    rs2 = 0\n",
    "    for j in range(10):\n",
    "        rs2 +=calCs2(i)\n",
    "    rs2 = round(rs2/10,4)/2\n",
    "    ids = data.iloc[:,f_indexs[i]].name + ' / ' + data.iloc[:,c_indexs[i]].name\n",
    "    result.loc[len(result.index)] = [ids, rs1, rs2]"
   ]
  },
  {
   "cell_type": "code",
   "execution_count": 137,
   "id": "467077e5",
   "metadata": {
    "scrolled": true
   },
   "outputs": [],
   "source": [
    "result.to_csv('./data/csv_data/wbf_test_result.csv',index = False)"
   ]
  }
 ],
 "metadata": {
  "kernelspec": {
   "display_name": "Python 3 (ipykernel)",
   "language": "python",
   "name": "python3"
  },
  "language_info": {
   "codemirror_mode": {
    "name": "ipython",
    "version": 3
   },
   "file_extension": ".py",
   "mimetype": "text/x-python",
   "name": "python",
   "nbconvert_exporter": "python",
   "pygments_lexer": "ipython3",
   "version": "3.9.12"
  }
 },
 "nbformat": 4,
 "nbformat_minor": 5
}
