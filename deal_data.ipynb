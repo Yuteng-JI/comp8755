{
 "cells": [
  {
   "cell_type": "code",
   "execution_count": 1,
   "id": "dd9892a4-7f67-4c6e-ac05-7a8b74defba6",
   "metadata": {},
   "outputs": [
    {
     "name": "stdout",
     "output_type": "stream",
     "text": [
      "2808001\n"
     ]
    }
   ],
   "source": [
    "file = open('/Users/yutengji/Documents/blockchain_dna/data/gz_data/ALL_GGVP.chr1.shapeit2_integrated_snvindels_v1b_20200120.GRCh38.phased.txt')\n",
    "lines = file.readlines()\n",
    "print(len(lines))"
   ]
  },
  {
   "cell_type": "code",
   "execution_count": 4,
   "id": "0514253e-a51b-4944-91f2-183404e5dc39",
   "metadata": {},
   "outputs": [
    {
     "name": "stdout",
     "output_type": "stream",
     "text": [
      "#CHROM\tPOS\tID\tREF\tALT\tQUAL\tFILTER\tINFO\tFORMAT\tHG02461\tHG02462\tHG02464\tHG02465\tHG02561\tHG02562\tHG02568\tHG02570\tHG02571\tHG02573\tHG02574\tHG02582\tHG02583\tHG02585\tHG02586\tHG02588\tHG02589\tHG02594\tHG02595\tHG02610\tHG02611\tHG02613\tHG02614\tHG02620\tHG02621\tHG02623\tHG02624\tHG02628\tHG02629\tHG02634\tHG02635\tHG02642\tHG02643\tHG02645\tHG02646\tHG02666\tHG02667\tHG02675\tHG02676\tHG02678\tHG02679\tHG02702\tHG02703\tHG02715\tHG02716\tHG02721\tHG02722\tHG02756\tHG02757\tHG02759\tHG02760\tHG02762\tHG02763\tHG02768\tHG02769\tHG02771\tHG02772\tHG02798\tHG02799\tHG02804\tHG02805\tHG02807\tHG02808\tHG02810\tHG02811\tHG02813\tHG02814\tHG02816\tHG02817\tHG02819\tHG02820\tHG02836\tHG02837\tHG02839\tHG02840\tHG02851\tHG02852\tHG02854\tHG02855\tHG02860\tHG02861\tHG02869\tHG02870\tHG02878\tHG02879\tHG02881\tHG02882\tHG02884\tHG02885\tHG02887\tHG02888\tHG02890\tHG02891\tHG02895\tHG02896\tHG02982\tHG02983\tHG03024\tHG03025\tHG03028\tHG03033\tHG03034\tHG03039\tHG03040\tHG03045\tHG03046\tHG03048\tHG03049\tHG03240\tHG03241\tHG03246\tHG03247\tHG03249\tHG03250\tHG03258\tHG03259\tHG03538\tHG03539\tSC_GMFUL5306338\tSC_GMFUL5306339\tSC_GMFUL5306340\tSC_GMFUL5306341\tSC_GMFUL5306343\tSC_GMFUL5306344\tSC_GMFUL5306345\tSC_GMFUL5306346\tSC_GMFUL5306347\tSC_GMFUL5306348\tSC_GMFUL5306349\tSC_GMFUL5306351\tSC_GMFUL5306352\tSC_GMFUL5306353\tSC_GMFUL5306354\tSC_GMFUL5306355\tSC_GMFUL5306356\tSC_GMFUL5306357\tSC_GMFUL5306359\tSC_GMFUL5306360\tSC_GMFUL5306361\tSC_GMFUL5306363\tSC_GMFUL5306366\tSC_GMFUL5306367\tSC_GMFUL5306369\tSC_GMFUL5306371\tSC_GMFUL5306374\tSC_GMFUL5306375\tSC_GMFUL5306377\tSC_GMFUL5306379\tSC_GMFUL5306382\tSC_GMFUL5306383\tSC_GMFUL5306385\tSC_GMFUL5306387\tSC_GMFUL5306388\tSC_GMFUL5306389\tSC_GMFUL5306390\tSC_GMFUL5306391\tSC_GMFUL5306392\tSC_GMFUL5306395\tSC_GMFUL5306396\tSC_GMFUL5306397\tSC_GMFUL5306398\tSC_GMFUL5306399\tSC_GMFUL5306400\tSC_GMFUL5306404\tSC_GMFUL5306405\tSC_GMFUL5306406\tSC_GMFUL5306407\tSC_GMFUL5306408\tSC_GMFUL5306410\tSC_GMFUL5306411\tSC_GMFUL5306412\tSC_GMFUL5306413\tSC_GMFUL5306415\tSC_GMFUL5306416\tSC_GMFUL5306418\tSC_GMFUL5306419\tSC_GMFUL5306420\tSC_GMFUL5306421\tSC_GMFUL5306423\tSC_GMFUL5306424\tSC_GMFUL5306426\tSC_GMFUL5306427\tSC_GMFUL5306429\tSC_GMFUL5306431\tSC_GMFUL5306432\tSC_GMFUL5309700\tSC_GMFUL5309702\tSC_GMFUL5309703\tSC_GMFUL5309708\tSC_GMFUL5309709\tSC_GMFUL5309710\tSC_GMFUL5309711\tSC_GMFUL5309716\tSC_GMFUL5309717\tSC_GMFUL5309718\tSC_GMFUL5309719\tSC_GMFUL5309722\tSC_GMFUL5309733\tSC_GMFUL5309735\tSC_GMFUL5309738\tSC_GMFUL5309741\tSC_GMFUL5309747\tSC_GMFUL5309748\tSC_GMFUL5309755\tSC_GMFUL5309756\tSC_GMFUL5309763\tSC_GMFUL5309764\tSC_GMFUL5309773\tSC_GMFUL5309781\tSC_GMFUL5309789\tSC_GMJOL5309796\tSC_GMJOL5309797\tSC_GMJOL5309804\tSC_GMJOL5309805\tSC_GMJOL5309812\tSC_GMJOL5309813\tSC_GMJOL5309819\tSC_GMJOL5309820\tSC_GMJOL5309821\tSC_GMJOL5309827\tSC_GMJOL5309828\tSC_GMJOL5309829\tSC_GMJOL5309835\tSC_GMJOL5309836\tSC_GMJOL5309837\tSC_GMJOL5309843\tSC_GMJOL5309844\tSC_GMJOL5309851\tSC_GMJOL5309852\tSC_GMJOL5309859\tSC_GMJOL5309860\tSC_GMJOL5309867\tSC_GMJOL5309868\tSC_GMJOL5309875\tSC_GMJOL5309876\tSC_GMJOL5309883\tSC_GMJOL5309884\tSC_GMJOL5309890\tSC_GMJOL5309891\tSC_GMJOL5309895\tSC_GMJOL5309896\tSC_GMJOL5309897\tSC_GMJOL5309898\tSC_GMJOL5309899\tSC_GMJOL5309903\tSC_GMJOL5309904\tSC_GMJOL5309905\tSC_GMJOL5309906\tSC_GMJOL5309907\tSC_GMJOL5309911\tSC_GMJOL5309912\tSC_GMJOL5309913\tSC_GMJOL5309914\tSC_GMJOL5309917\tSC_GMJOL5309918\tSC_GMJOL5309919\tSC_GMJOL5309920\tSC_GMJOL5309921\tSC_GMJOL5309922\tSC_GMJOL5309925\tSC_GMJOL5309926\tSC_GMJOL5309927\tSC_GMJOL5309928\tSC_GMJOL5309929\tSC_GMJOL5309930\tSC_GMJOL5309933\tSC_GMJOL5309934\tSC_GMJOL5309935\tSC_GMJOL5309936\tSC_GMJOL5309937\tSC_GMJOL5309939\tSC_GMJOL5309940\tSC_GMJOL5309941\tSC_GMJOL5309942\tSC_GMJOL5309943\tSC_GMJOL5309944\tSC_GMJOL5309945\tSC_GMJOL5309948\tSC_GMJOL5309949\tSC_GMJOL5309950\tSC_GMJOL5309951\tSC_GMJOL5309952\tSC_GMJOL5309953\tSC_GMJOL5309956\tSC_GMJOL5309957\tSC_GMJOL5309958\tSC_GMJOL5309959\tSC_GMJOL5309960\tSC_GMJOL5309961\tSC_GMJOL5309963\tSC_GMJOL5309965\tSC_GMJOL5309966\tSC_GMJOL5309967\tSC_GMJOL5309968\tSC_GMJOL5309969\tSC_GMJOL5309971\tSC_GMJOL5309972\tSC_GMJOL5309973\tSC_GMJOL5309974\tSC_GMJOL5309975\tSC_GMJOL5309976\tSC_GMJOL5309977\tSC_GMJOL5309979\tSC_GMJOL5309981\tSC_GMJOL5309982\tSC_GMJOL5309983\tSC_GMJOL5309984\tSC_GMJOL5309985\tSC_GMMAN5482162\tSC_GMMAN5482163\tSC_GMMAN5482164\tSC_GMMAN5482165\tSC_GMMAN5482168\tSC_GMMAN5482169\tSC_GMMAN5482170\tSC_GMMAN5482171\tSC_GMMAN5482172\tSC_GMMAN5482173\tSC_GMMAN5482176\tSC_GMMAN5482177\tSC_GMMAN5482178\tSC_GMMAN5482180\tSC_GMMAN5482181\tSC_GMMAN5482184\tSC_GMMAN5482185\tSC_GMMAN5482186\tSC_GMMAN5482187\tSC_GMMAN5482189\tSC_GMMAN5482191\tSC_GMMAN5482192\tSC_GMMAN5482193\tSC_GMMAN5482194\tSC_GMMAN5482195\tSC_GMMAN5482197\tSC_GMMAN5482199\tSC_GMMAN5482200\tSC_GMMAN5482201\tSC_GMMAN5482202\tSC_GMMAN5482203\tSC_GMMAN5482205\tSC_GMMAN5482207\tSC_GMMAN5482208\tSC_GMMAN5482209\tSC_GMMAN5482211\tSC_GMMAN5482212\tSC_GMMAN5482213\tSC_GMMAN5482215\tSC_GMMAN5482216\tSC_GMMAN5482217\tSC_GMMAN5482219\tSC_GMMAN5482220\tSC_GMMAN5482221\tSC_GMMAN5482223\tSC_GMMAN5482224\tSC_GMMAN5482225\tSC_GMMAN5482227\tSC_GMMAN5482228\tSC_GMMAN5482229\tSC_GMMAN5482231\tSC_GMMAN5482232\tSC_GMMAN5482233\tSC_GMMAN5482234\tSC_GMMAN5482235\tSC_GMMAN5482236\tSC_GMMAN5482239\tSC_GMMAN5482240\tSC_GMMAN5482241\tSC_GMMAN5482242\tSC_GMMAN5482243\tSC_GMMAN5482244\tSC_GMMAN5482247\tSC_GMMAN5482248\tSC_GMMAN5482250\tSC_GMMAN5482251\tSC_GMMAN5482252\tSC_GMMAN5482255\tSC_GMMAN5482256\tSC_GMMAN5482258\tSC_GMMAN5482260\tSC_GMMAN5482266\tSC_GMMAN5482268\tSC_GMMAN5482274\tSC_GMMAN5482276\tSC_GMMAN5482282\tSC_GMMAN5482283\tSC_GMMAN5482284\tSC_GMMAN5482285\tSC_GMMAN5482290\tSC_GMMAN5482291\tSC_GMMAN5482292\tSC_GMMAN5482293\tSC_GMMAN5482298\tSC_GMMAN5482299\tSC_GMMAN5482300\tSC_GMMAN5482301\tSC_GMMAN5482306\tSC_GMMAN5482307\tSC_GMMAN5482308\tSC_GMMAN5482309\tSC_GMMAN5482314\tSC_GMMAN5482316\tSC_GMMAN5482322\tSC_GMMAN5482323\tSC_GMMAN5482324\tSC_GMMAN5482332\tSC_GMMAN5482340\tSC_GMMAN5482348\tSC_GMWOF5428705\tSC_GMWOF5428707\tSC_GMWOF5428708\tSC_GMWOF5428713\tSC_GMWOF5428715\tSC_GMWOF5428716\tSC_GMWOF5428721\tSC_GMWOF5428723\tSC_GMWOF5428724\tSC_GMWOF5428728\tSC_GMWOF5428729\tSC_GMWOF5428731\tSC_GMWOF5428732\tSC_GMWOF5428737\tSC_GMWOF5428739\tSC_GMWOF5428740\tSC_GMWOF5428744\tSC_GMWOF5428745\tSC_GMWOF5428747\tSC_GMWOF5428748\tSC_GMWOF5428762\tSC_GMWOF5428763\tSC_GMWOF5428770\tSC_GMWOF5428771\tSC_GMWOF5428778\tSC_GMWOF5428786\tSC_GMWOF5428787\tSC_GMWOF5428788\tSC_GMWOF5428789\tSC_GMWOF5428790\tSC_GMWOF5428792\tSC_GMWOF5428794\tSC_GMWOF5428795\tSC_GMWOF5428796\tSC_GMWOF5428797\tSC_GMWOF5428798\tSC_GMWOF5428800\tSC_GMWOF5428802\tSC_GMWOF5428803\tSC_GMWOF5428804\tSC_GMWOF5428805\tSC_GMWOF5428806\tSC_GMWOF5428808\tSC_GMWOF5428810\tSC_GMWOF5428811\tSC_GMWOF5428812\tSC_GMWOF5428813\tSC_GMWOF5428814\tSC_GMWOF5428815\tSC_GMWOF5428816\tSC_GMWOF5428817\tSC_GMWOF5428818\tSC_GMWOF5428819\tSC_GMWOF5428820\tSC_GMWOF5428821\tSC_GMWOF5428822\tSC_GMWOF5428823\tSC_GMWOF5428824\tSC_GMWOF5428825\tSC_GMWOF5428826\tSC_GMWOF5428827\tSC_GMWOF5428828\tSC_GMWOF5428829\tSC_GMWOF5428830\tSC_GMWOF5428831\tSC_GMWOF5428832\tSC_GMWOF5428833\tSC_GMWOF5428834\tSC_GMWOF5428835\tSC_GMWOF5428838\tSC_GMWOF5428839\tSC_GMWOF5428841\tSC_GMWOF5428842\tSC_GMWOF5428843\tSC_GMWOF5428846\tSC_GMWOF5428847\tSC_GMWOF5428849\tSC_GMWOF5428850\tSC_GMWOF5428851\tSC_GMWOF5428854\tSC_GMWOF5428855\tSC_GMWOF5428857\tSC_GMWOF5428858\tSC_GMWOF5428859\tSC_GMWOF5428861\tSC_GMWOF5428863\tSC_GMWOF5428865\tSC_GMWOF5428866\tSC_GMWOF5428867\tSC_GMWOF5428869\tSC_GMWOF5428871\tSC_GMWOF5428873\tSC_GMWOF5428874\tSC_GMWOF5428875\tSC_GMWOF5428877\tSC_GMWOF5428879\tSC_GMWOF5428882\tSC_GMWOF5428906\n",
      "\n"
     ]
    }
   ],
   "source": [
    "print(lines[22])"
   ]
  },
  {
   "cell_type": "code",
   "execution_count": 2,
   "id": "1ed960de-3636-4e3c-8bd2-892445ee688c",
   "metadata": {},
   "outputs": [],
   "source": [
    "i = 23\n",
    "for line in lines[23:]:\n",
    "    i += 1\n",
    "    ls = line.split('\\t')\n",
    "    if ls[1] == '10526445':\n",
    "        print(i)\n",
    "        break"
   ]
  },
  {
   "cell_type": "code",
   "execution_count": 3,
   "id": "3091c9a7-29bd-41f6-bc9d-f52f9589c92c",
   "metadata": {},
   "outputs": [],
   "source": [
    "ls = lines[22].split('\\t')\n",
    "c_index = ls.index('SC_GMFUL5306341')\n",
    "f_index = ls.index('SC_GMFUL5306349')\n",
    "m_index = ls.index('SC_GMFUL5306357')"
   ]
  },
  {
   "cell_type": "code",
   "execution_count": 4,
   "id": "674c7d7f-d8d8-4e28-a4de-a23eb9c5b8a5",
   "metadata": {},
   "outputs": [],
   "source": [
    "cs = ['SC_GMFUL5306341', 'SC_GMFUL5306340', 'SC_GMFUL5306339', 'SC_GMFUL5306343',\n",
    "      'SC_GMJOL5309921', 'SC_GMWOF5428789', 'SC_GMFUL5309700']\n",
    "fs = ['SC_GMFUL5306349', 'SC_GMFUL5306348', 'SC_GMFUL5306347', 'SC_GMFUL5306351',\n",
    "      'SC_GMJOL5309929', 'SC_GMWOF5428805', 'SC_GMFUL5309708']\n",
    "ms = ['SC_GMFUL5306357', 'SC_GMFUL5306356', 'SC_GMFUL5306355', 'SC_GMFUL5306359',\n",
    "      'SC_GMJOL5309937', 'SC_GMWOF5428797', 'SC_GMFUL5309716']\n",
    "cs_index = []\n",
    "fs_index = []\n",
    "ms_index = []\n",
    "for c in cs:\n",
    "    cs_index.append(ls.index(c))\n",
    "for f in fs:\n",
    "    fs_index.append(ls.index(f))\n",
    "for m in ms:\n",
    "    ms_index.append(ls.index(m))"
   ]
  },
  {
   "cell_type": "code",
   "execution_count": 7,
   "id": "f5a5705b-3622-4461-bc9e-a96325a3bcb4",
   "metadata": {},
   "outputs": [
    {
     "name": "stdout",
     "output_type": "stream",
     "text": [
      "100000\n",
      "200000\n",
      "300000\n",
      "400000\n",
      "500000\n",
      "600000\n",
      "700000\n",
      "800000\n",
      "900000\n",
      "1000000\n",
      "1100000\n",
      "1200000\n",
      "1300000\n",
      "1400000\n",
      "1500000\n",
      "1600000\n",
      "1700000\n",
      "1800000\n",
      "1900000\n",
      "2000000\n",
      "2100000\n",
      "2200000\n",
      "2300000\n",
      "2400000\n",
      "2500000\n",
      "2600000\n",
      "2700000\n",
      "2800000\n",
      "1635123  common SNPs\n"
     ]
    }
   ],
   "source": [
    "# Common SNPs of 21 persons\n",
    "# results = [0]*12\n",
    "i = 0\n",
    "same_i = 0\n",
    "for line in lines[23:]:\n",
    "    i += 1 \n",
    "    if (i%100000==0):\n",
    "        print(i)\n",
    "    ls = line.split('\\t')\n",
    "    els = []\n",
    "    for c_i in cs_index:\n",
    "        c = ls[c_i]\n",
    "        cs = c.split('|')\n",
    "        els.append(cs[0])\n",
    "        els.append(cs[1])\n",
    "    for f_i in fs_index:\n",
    "        f = ls[f_i]\n",
    "        fs = f.split('|')\n",
    "        els.append(fs[0])\n",
    "        els.append(fs[1])\n",
    "    for m_i in ms_index:\n",
    "        m = ls[m_i]\n",
    "        ms = m.split('|')\n",
    "        els.append(ms[0])\n",
    "        els.append(ms[1])\n",
    "    \n",
    "    # count number of 21*2 elements have same snp\n",
    "    if len(set(els))==1:\n",
    "        same_i += 1\n",
    "    \n",
    "print(same_i, ' common SNPs')\n",
    "# for re in results:\n",
    "#     print(round(1- (re/(577754-same_i)),5))"
   ]
  },
  {
   "cell_type": "code",
   "execution_count": 5,
   "id": "67d6802e-d667-4fc0-aa1a-64416bd866e2",
   "metadata": {},
   "outputs": [],
   "source": [
    "c_index = cs_index[6]\n",
    "f_index = fs_index[6]\n",
    "m_index = ms_index[6]"
   ]
  },
  {
   "cell_type": "code",
   "execution_count": 8,
   "id": "52ac9977-da6b-4720-81f0-eb47ef0bc648",
   "metadata": {},
   "outputs": [
    {
     "name": "stdout",
     "output_type": "stream",
     "text": [
      "100000\n",
      "200000\n",
      "300000\n",
      "400000\n",
      "500000\n",
      "600000\n",
      "700000\n",
      "800000\n",
      "900000\n",
      "1000000\n",
      "1100000\n",
      "1200000\n",
      "1300000\n",
      "1400000\n",
      "1500000\n",
      "1600000\n",
      "1700000\n",
      "1800000\n",
      "1900000\n",
      "2000000\n",
      "2100000\n",
      "2200000\n",
      "2300000\n",
      "2400000\n",
      "2500000\n",
      "2600000\n",
      "2700000\n",
      "2800000\n",
      "1635123  common SNPs\n",
      "1.19386\n",
      "1.19073\n",
      "1.20585\n",
      "1.18674\n",
      "1.1857\n",
      "1.19801\n",
      "1.19327\n",
      "1.18432\n",
      "1.25584\n",
      "1.2539\n",
      "1.25257\n",
      "1.25101\n"
     ]
    }
   ],
   "source": [
    "results = [0]*12\n",
    "i = 0\n",
    "for line in lines[23:]:\n",
    "    i += 1 \n",
    "    if (i%100000==0):\n",
    "        print(i)\n",
    "    ls = line.split('\\t')\n",
    "    c = ls[c_index]\n",
    "    f = ls[f_index]\n",
    "    m = ls[m_index]\n",
    "    cs = c.split('|')\n",
    "    fs = f.split('|')\n",
    "    ms = m.split('|')\n",
    "    \n",
    "#     # count number of 21*2 elements have same snp\n",
    "#     els = [cs[0], cs[1], fs[0], fs[1], ms[0], ms[1]]\n",
    "#     if len(set(els))==1:\n",
    "#         same_i += 1\n",
    "    \n",
    "    # child and father\n",
    "    if cs[0] != fs[0]:\n",
    "        results[0] += 1\n",
    "    if cs[0] != fs[1]:\n",
    "        results[1] += 1\n",
    "    if cs[1] != fs[0]:\n",
    "        results[2] += 1\n",
    "    if cs[1] != fs[1]:\n",
    "        results[3] += 1\n",
    "        \n",
    "    # child and mother\n",
    "    if cs[0] != ms[0]:\n",
    "        results[4] += 1\n",
    "    if cs[0] != ms[1]:\n",
    "        results[5] += 1\n",
    "    if cs[1] != ms[0]:\n",
    "        results[6] += 1\n",
    "    if cs[1] != ms[1]:\n",
    "        results[7] += 1\n",
    "        \n",
    "    # mother and father \n",
    "    if fs[0] != ms[0]:\n",
    "        results[8] += 1\n",
    "    if fs[0] != ms[1]:\n",
    "        results[9] += 1\n",
    "    if fs[1] != ms[0]:\n",
    "        results[10] += 1\n",
    "    if fs[1] != ms[1]:\n",
    "        results[11] += 1\n",
    "\n",
    "print(same_i, ' common SNPs')\n",
    "for re in results:\n",
    "    print(round(1- (re/(577754-same_i)),5))"
   ]
  },
  {
   "cell_type": "code",
   "execution_count": 9,
   "id": "726875b3-93a1-4d98-95b6-307b4f6e6dd5",
   "metadata": {},
   "outputs": [
    {
     "name": "stdout",
     "output_type": "stream",
     "text": [
      "248945670\n",
      "C\n",
      "G\n",
      "0|1\n",
      "514\n"
     ]
    }
   ],
   "source": [
    "l_44 = lines[-80]\n",
    "ls = l_44.split('\\t')\n",
    "print(ls[1])\n",
    "print(ls[3])\n",
    "print(ls[4])\n",
    "print(ls[9])\n",
    "print(len(ls))"
   ]
  },
  {
   "cell_type": "code",
   "execution_count": 10,
   "id": "9aa29322-7661-49cd-b582-9b4457a7e2d3",
   "metadata": {},
   "outputs": [],
   "source": [
    "for line in lines[23:]:\n",
    "    ls = line.split('\\t')\n",
    "    if ls[8]!='GT':\n",
    "        print(line)"
   ]
  },
  {
   "cell_type": "code",
   "execution_count": 12,
   "id": "07a7bcb6-1fc3-4ce4-89a7-0f27e7f8ce2d",
   "metadata": {},
   "outputs": [],
   "source": [
    "# get snp for each person\n",
    "# chr22 only has one alt in alt, other chr may need to change the code\n",
    "folder_path = './chr1_person/'\n",
    "for i in range(110,200):\n",
    "    file1 = open(folder_path + 'chr1_' + str(i-9) + '_A.txt', 'w')\n",
    "    file2 = open(folder_path + 'chr1_' + str(i-9) + '_B.txt', 'w')\n",
    "    ls = lines[22].split('\\t')\n",
    "    file1.write(ls[i] + '\\n')\n",
    "    file2.write(ls[i] + '\\n')\n",
    "    for line in lines[23:]:\n",
    "        ls = line.split('\\t')\n",
    "        pos = ls[1]\n",
    "        ref = ls[3]\n",
    "        alt = ls[4]\n",
    "        per = ls[i]\n",
    "        pers = ls[i].split('|')\n",
    "        snp = '22/' + pos + '/' + ref + '/' + alt + '\\n' \n",
    "        if pers[0] == '1':\n",
    "            file1.write(snp)\n",
    "        if pers[1] == '1':\n",
    "            file2.write(snp)\n",
    "        "
   ]
  },
  {
   "cell_type": "code",
   "execution_count": 87,
   "id": "ac4a9347-bfcb-403f-a4d1-b25aa99003d7",
   "metadata": {},
   "outputs": [],
   "source": [
    "# save possibility:\n",
    "file = open('22_v_possibility.txt', 'w')\n",
    "for line in lines[23:]:\n",
    "    ls = line.split('\\t')\n",
    "    pos = ls[1]\n",
    "    ref = ls[3]\n",
    "    alt = ls[4]\n",
    "    a_v = 0\n",
    "    b_v = 0\n",
    "    for i in range(9,514):\n",
    "        pers = ls[i].split('|')\n",
    "        if pers[0] == '1':\n",
    "            a_v += 1\n",
    "        if pers[1] == '1':\n",
    "            b_v += 1\n",
    "    a_v = a_v/505\n",
    "    b_v = b_v/505\n",
    "    snp = '22/' + pos + '/' + ref + '/' + alt + '/' + str(a_v) + '/' + str(b_v) + '\\n'\n",
    "    file.write(snp)"
   ]
  },
  {
   "cell_type": "code",
   "execution_count": 98,
   "id": "8b3ed463-670a-46ef-89f5-e4eb848802f9",
   "metadata": {},
   "outputs": [
    {
     "name": "stdout",
     "output_type": "stream",
     "text": [
      "entropy is  -140829.16843364414\n",
      "entropy is  -140845.88543384074\n"
     ]
    }
   ],
   "source": [
    "import math\n",
    "file = open('22_v_possibility.txt', 'r')\n",
    "entropy1 = 0\n",
    "entropy2 = 0\n",
    "lines = file.readlines()\n",
    "for line in lines:\n",
    "    ls = line.split('/')\n",
    "    p = float(ls[-1])\n",
    "    if p == 0:\n",
    "        p = 0.001\n",
    "    if p == 1:\n",
    "        p = 0.999\n",
    "    p2 = float(ls[-2])\n",
    "    if p2 == 0:\n",
    "        p2 = 0.001\n",
    "    if p2 == 1:\n",
    "        p2 = 0.999\n",
    "    entropy1 += p*math.log(p, 2) + (1-p)*math.log((1-p), 2)\n",
    "    entropy2 += p2*math.log(p2, 2) + (1-p2)*math.log((1-p2), 2)\n",
    "print(\"entropy is \", entropy1)\n",
    "print(\"entropy is \", entropy2)\n"
   ]
  },
  {
   "cell_type": "code",
   "execution_count": 19,
   "id": "33743c4e-2a3a-403d-829a-ba4876a41a01",
   "metadata": {},
   "outputs": [
    {
     "name": "stdout",
     "output_type": "stream",
     "text": [
      "100000\n",
      "200000\n",
      "300000\n",
      "400000\n",
      "500000\n",
      "0.93402\n",
      "0.92153\n",
      "0.91914\n",
      "0.92546\n",
      "0.92101\n",
      "0.9258\n",
      "0.9286\n",
      "0.9317\n",
      "0.90372\n",
      "0.9055\n",
      "0.90854\n",
      "0.90606\n"
     ]
    }
   ],
   "source": []
  },
  {
   "cell_type": "code",
   "execution_count": 11,
   "id": "6cf71783-b54f-43b6-b7d6-804568d33c87",
   "metadata": {},
   "outputs": [
    {
     "name": "stdout",
     "output_type": "stream",
     "text": [
      "0.92459\n",
      "0.92683\n",
      "0.91994\n",
      "0.92198\n",
      "0.92098\n",
      "0.92166\n",
      "0.92544\n",
      "0.92162\n",
      "0.90019\n",
      "0.90099\n",
      "0.90197\n",
      "0.90245\n"
     ]
    }
   ],
   "source": [
    "for re in results:\n",
    "    print(round(1- (re/577754),5))"
   ]
  },
  {
   "cell_type": "code",
   "execution_count": null,
   "id": "0530139f-11bf-4b83-b187-593cc1dab24d",
   "metadata": {},
   "outputs": [],
   "source": [
    "# Find if there are any all common SNPs\n",
    "for line in lines[23:]:\n",
    "    ls = line.split('\\t')\n",
    "    pos = ls[1]\n",
    "    ref = ls[3]\n",
    "    alt = ls[4]\n",
    "    a_v = 0\n",
    "    b_v = 0\n",
    "    els = []\n",
    "    for i in range(9,514):\n",
    "        pers = ls[i].split('|')\n",
    "        \n",
    "    a_v = a_v/505\n",
    "    b_v = b_v/505\n",
    "    snp = '22/' + pos + '/' + ref + '/' + alt + '/' + str(a_v) + '/' + str(b_v) + '\\n'\n",
    "    file.write(snp)"
   ]
  },
  {
   "cell_type": "code",
   "execution_count": 62,
   "id": "cf9a4e78-8703-470d-8144-7adc92ed2930",
   "metadata": {},
   "outputs": [
    {
     "name": "stdout",
     "output_type": "stream",
     "text": [
      "121\n",
      "128\n",
      "135\n"
     ]
    }
   ],
   "source": [
    "print(cs_index[0]-9)\n",
    "print(fs_index[0]-9)\n",
    "print(ms_index[0]-9)"
   ]
  },
  {
   "cell_type": "code",
   "execution_count": null,
   "id": "8b9f2f63-79f7-48b1-87f3-fdacb6e1634f",
   "metadata": {},
   "outputs": [],
   "source": []
  }
 ],
 "metadata": {
  "kernelspec": {
   "display_name": "Python 3 (ipykernel)",
   "language": "python",
   "name": "python3"
  },
  "language_info": {
   "codemirror_mode": {
    "name": "ipython",
    "version": 3
   },
   "file_extension": ".py",
   "mimetype": "text/x-python",
   "name": "python",
   "nbconvert_exporter": "python",
   "pygments_lexer": "ipython3",
   "version": "3.9.12"
  }
 },
 "nbformat": 4,
 "nbformat_minor": 5
}
