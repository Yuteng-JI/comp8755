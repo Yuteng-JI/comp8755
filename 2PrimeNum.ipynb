{
 "cells": [
  {
   "cell_type": "code",
   "execution_count": 1,
   "id": "46cc7dcf",
   "metadata": {},
   "outputs": [],
   "source": [
    "import helper_functions_v1 as hp\n",
    "import pandas as pd\n",
    "import random\n",
    "import numpy as np"
   ]
  },
  {
   "cell_type": "code",
   "execution_count": 2,
   "id": "9cf0b5ea",
   "metadata": {},
   "outputs": [],
   "source": [
    "file = open('ALl.chr22_small_vcf.txt')\n",
    "lines = file.readlines()\n",
    "c_indexs = [127, 128, 129, 130, 131, 132, 133, 148, 149, 150, 151, 160]\n",
    "f_indexs = [134, 135, 136, 137, 138, 139, 140, 152, 153, 154, 155, 166]\n",
    "m_indexs = [141, 142, 143, 144, 145, 146, 147, 156, 157, 158, 159, 'x']\n",
    "ls_22 = lines[22].split('\\t')\n",
    "all_index = list(range(9,514))\n",
    "all_index = [i for i in all_index if i not in c_indexs]\n",
    "all_index = [i for i in all_index if i not in f_indexs]\n",
    "all_index = [i for i in all_index if i not in m_indexs]"
   ]
  },
  {
   "cell_type": "code",
   "execution_count": 9,
   "id": "7092858e",
   "metadata": {},
   "outputs": [],
   "source": [
    "d = {'ID':[], 'Kin_Result':[], 'Stranger_Result':[]}\n",
    "df = pd.DataFrame(d)\n",
    "p = 0.5\n",
    "size = 2500000\n"
   ]
  },
  {
   "cell_type": "code",
   "execution_count": 10,
   "id": "813a688a",
   "metadata": {},
   "outputs": [
    {
     "name": "stdout",
     "output_type": "stream",
     "text": [
      "SC_GMFUL5306346 / SC_GMFUL5306338\n",
      "SC_GMFUL5306347 / SC_GMFUL5306339\n",
      "SC_GMFUL5306348 / SC_GMFUL5306340\n",
      "SC_GMFUL5306349 / SC_GMFUL5306341\n",
      "SC_GMFUL5306351 / SC_GMFUL5306343\n",
      "SC_GMFUL5306352 / SC_GMFUL5306344\n",
      "SC_GMFUL5306353 / SC_GMFUL5306345\n",
      "SC_GMFUL5306371 / SC_GMFUL5306363\n",
      "SC_GMFUL5306374 / SC_GMFUL5306366\n",
      "SC_GMFUL5306375 / SC_GMFUL5306367\n",
      "SC_GMFUL5306377 / SC_GMFUL5306369\n",
      "SC_GMFUL5306395 / SC_GMFUL5306387\n"
     ]
    }
   ],
   "source": [
    "path = './data/person_all/'\n",
    "for i in range(len(c_indexs)):\n",
    "    bfc1 = hp.generate_bloom(path + str(c_indexs[i]-9) + '_A.txt', p,size)\n",
    "    print(bfc.bit_arry)\n",
    "    bfc2 = hp.generate_bloom(path + str(c_indexs[i]-9) + '_B.txt', p,size)\n",
    "    bff1 = hp.generate_bloom(path + str(f_indexs[i]-9) + '_A.txt', p,size)\n",
    "    bff2 = hp.generate_bloom(path + str(f_indexs[i]-9) + '_B.txt', p,size)\n",
    "    st_index = random.choice(all_index)  # stranger\n",
    "    bfs1 = hp.generate_bloom(path + str(st_index-9) + '_A.txt', p,size)\n",
    "    bfs2 = hp.generate_bloom(path + str(st_index-9) + '_B.txt', p,size)\n",
    "\n",
    "    # Test father with child\n",
    "    homo_num = hp.card_inter(bff1,bff2)\n",
    "    kin_result = hp.inherit_test(bff1, bff2, bfc1, bfc2)\n",
    "    rs1 = round(kin_result/homo_num, 4)\n",
    "    # Test father with stranger\n",
    "    stra_result = hp.inherit_test(bfs1, bfs2, bfc1, bfc2)\n",
    "    rs2 = round(stra_result/homo_num, 4)\n",
    "\n",
    "    # Add into csv\n",
    "    ids = ls_22[f_indexs[i]] + ' / ' + ls_22[c_indexs[i]]\n",
    "    df.loc[len(df.index)] = [ids, rs1, rs2]\n",
    "    print(ids)\n",
    "\n"
   ]
  },
  {
   "cell_type": "code",
   "execution_count": 11,
   "id": "ab9c56f4",
   "metadata": {},
   "outputs": [
    {
     "data": {
      "text/html": [
       "<div>\n",
       "<style scoped>\n",
       "    .dataframe tbody tr th:only-of-type {\n",
       "        vertical-align: middle;\n",
       "    }\n",
       "\n",
       "    .dataframe tbody tr th {\n",
       "        vertical-align: top;\n",
       "    }\n",
       "\n",
       "    .dataframe thead th {\n",
       "        text-align: right;\n",
       "    }\n",
       "</style>\n",
       "<table border=\"1\" class=\"dataframe\">\n",
       "  <thead>\n",
       "    <tr style=\"text-align: right;\">\n",
       "      <th></th>\n",
       "      <th>ID</th>\n",
       "      <th>Kin_Result</th>\n",
       "      <th>Stranger_Result</th>\n",
       "    </tr>\n",
       "  </thead>\n",
       "  <tbody>\n",
       "    <tr>\n",
       "      <th>0</th>\n",
       "      <td>SC_GMFUL5306346 / SC_GMFUL5306338</td>\n",
       "      <td>0.9952</td>\n",
       "      <td>0.8581</td>\n",
       "    </tr>\n",
       "    <tr>\n",
       "      <th>1</th>\n",
       "      <td>SC_GMFUL5306347 / SC_GMFUL5306339</td>\n",
       "      <td>0.9962</td>\n",
       "      <td>0.8536</td>\n",
       "    </tr>\n",
       "    <tr>\n",
       "      <th>2</th>\n",
       "      <td>SC_GMFUL5306348 / SC_GMFUL5306340</td>\n",
       "      <td>0.9941</td>\n",
       "      <td>0.8458</td>\n",
       "    </tr>\n",
       "    <tr>\n",
       "      <th>3</th>\n",
       "      <td>SC_GMFUL5306349 / SC_GMFUL5306341</td>\n",
       "      <td>0.9963</td>\n",
       "      <td>0.8390</td>\n",
       "    </tr>\n",
       "    <tr>\n",
       "      <th>4</th>\n",
       "      <td>SC_GMFUL5306351 / SC_GMFUL5306343</td>\n",
       "      <td>1.0000</td>\n",
       "      <td>0.8552</td>\n",
       "    </tr>\n",
       "    <tr>\n",
       "      <th>5</th>\n",
       "      <td>SC_GMFUL5306352 / SC_GMFUL5306344</td>\n",
       "      <td>0.9918</td>\n",
       "      <td>0.8515</td>\n",
       "    </tr>\n",
       "    <tr>\n",
       "      <th>6</th>\n",
       "      <td>SC_GMFUL5306353 / SC_GMFUL5306345</td>\n",
       "      <td>1.0015</td>\n",
       "      <td>0.8540</td>\n",
       "    </tr>\n",
       "    <tr>\n",
       "      <th>7</th>\n",
       "      <td>SC_GMFUL5306371 / SC_GMFUL5306363</td>\n",
       "      <td>0.9961</td>\n",
       "      <td>0.8480</td>\n",
       "    </tr>\n",
       "    <tr>\n",
       "      <th>8</th>\n",
       "      <td>SC_GMFUL5306374 / SC_GMFUL5306366</td>\n",
       "      <td>1.0006</td>\n",
       "      <td>0.8880</td>\n",
       "    </tr>\n",
       "    <tr>\n",
       "      <th>9</th>\n",
       "      <td>SC_GMFUL5306375 / SC_GMFUL5306367</td>\n",
       "      <td>0.9981</td>\n",
       "      <td>0.8591</td>\n",
       "    </tr>\n",
       "    <tr>\n",
       "      <th>10</th>\n",
       "      <td>SC_GMFUL5306377 / SC_GMFUL5306369</td>\n",
       "      <td>0.9983</td>\n",
       "      <td>0.8431</td>\n",
       "    </tr>\n",
       "    <tr>\n",
       "      <th>11</th>\n",
       "      <td>SC_GMFUL5306395 / SC_GMFUL5306387</td>\n",
       "      <td>0.9964</td>\n",
       "      <td>0.8862</td>\n",
       "    </tr>\n",
       "  </tbody>\n",
       "</table>\n",
       "</div>"
      ],
      "text/plain": [
       "                                   ID  Kin_Result  Stranger_Result\n",
       "0   SC_GMFUL5306346 / SC_GMFUL5306338      0.9952           0.8581\n",
       "1   SC_GMFUL5306347 / SC_GMFUL5306339      0.9962           0.8536\n",
       "2   SC_GMFUL5306348 / SC_GMFUL5306340      0.9941           0.8458\n",
       "3   SC_GMFUL5306349 / SC_GMFUL5306341      0.9963           0.8390\n",
       "4   SC_GMFUL5306351 / SC_GMFUL5306343      1.0000           0.8552\n",
       "5   SC_GMFUL5306352 / SC_GMFUL5306344      0.9918           0.8515\n",
       "6   SC_GMFUL5306353 / SC_GMFUL5306345      1.0015           0.8540\n",
       "7   SC_GMFUL5306371 / SC_GMFUL5306363      0.9961           0.8480\n",
       "8   SC_GMFUL5306374 / SC_GMFUL5306366      1.0006           0.8880\n",
       "9   SC_GMFUL5306375 / SC_GMFUL5306367      0.9981           0.8591\n",
       "10  SC_GMFUL5306377 / SC_GMFUL5306369      0.9983           0.8431\n",
       "11  SC_GMFUL5306395 / SC_GMFUL5306387      0.9964           0.8862"
      ]
     },
     "execution_count": 11,
     "metadata": {},
     "output_type": "execute_result"
    }
   ],
   "source": [
    "df"
   ]
  },
  {
   "cell_type": "code",
   "execution_count": 8,
   "id": "bfe7b88a",
   "metadata": {
    "scrolled": true
   },
   "outputs": [],
   "source": [
    "df.to_csv('./data/test_result/2PrimeNum_test_result.csv', index=False)"
   ]
  }
 ],
 "metadata": {
  "kernelspec": {
   "display_name": "Python 3 (ipykernel)",
   "language": "python",
   "name": "python3"
  },
  "language_info": {
   "codemirror_mode": {
    "name": "ipython",
    "version": 3
   },
   "file_extension": ".py",
   "mimetype": "text/x-python",
   "name": "python",
   "nbconvert_exporter": "python",
   "pygments_lexer": "ipython3",
   "version": "3.9.12"
  }
 },
 "nbformat": 4,
 "nbformat_minor": 5
}
