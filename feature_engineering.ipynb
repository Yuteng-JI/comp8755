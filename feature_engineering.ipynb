{
 "cells": [
  {
   "cell_type": "code",
   "execution_count": null,
   "id": "626cbc04",
   "metadata": {},
   "outputs": [],
   "source": [
    "import numpy as np\n",
    "import pandas as pd\n",
    "from sklearn.feature_selection import VarianceThreshold \n",
    "from sklearn.discriminant_analysis import LinearDiscriminantAnalysis as LDA\n",
    "import matplotlib.pyplot as plt\n",
    "from scipy.spatial import distance\n",
    "\n",
    "class FeatureEngineering():\n",
    "    @staticmethod\n",
    "    def singleFeatureEngineering(X,f,c,s,m=None):\n",
    "        X[\"y\"] = 0\n",
    "        X.loc[c,\"y\"] = 1\n",
    "        X.loc[f,\"y\"] = 1\n",
    "        if not m:\n",
    "            X.loc[m,\"y\"] = 1\n",
    "        Y = X[\"y\"]\n",
    "        X = X.drop([\"y\"],axis=1)\n",
    "        clf = LDA()\n",
    "        clf.fit(X, Y)\n",
    "        x_new = clf.transform(X)\n",
    "        dist = pd.DataFrame(columns = ['idx', 'dist'])\n",
    "    for index,row in X.iteritems():\n",
    "\n",
    "        c = X[index].to_frame()\n",
    "        dst = distance.euclidean(c,x_new)\n",
    "        d = pd.DataFrame([[index,dst]],columns = ['idx', 'dist'])\n",
    "        dist = pd.concat([dist,d])\n",
    "    asc = dist.sort_values(by = ['dist'],ascending=True)\n",
    "    return asc"
   ]
  }
 ],
 "metadata": {
  "kernelspec": {
   "display_name": "Python 3 (ipykernel)",
   "language": "python",
   "name": "python3"
  },
  "language_info": {
   "codemirror_mode": {
    "name": "ipython",
    "version": 3
   },
   "file_extension": ".py",
   "mimetype": "text/x-python",
   "name": "python",
   "nbconvert_exporter": "python",
   "pygments_lexer": "ipython3",
   "version": "3.9.12"
  }
 },
 "nbformat": 4,
 "nbformat_minor": 5
}
