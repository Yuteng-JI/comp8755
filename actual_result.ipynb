{
 "cells": [
  {
   "cell_type": "code",
   "execution_count": 2,
   "id": "6c2c8f1d",
   "metadata": {},
   "outputs": [],
   "source": [
    "import pandas as pd\n",
    "import random"
   ]
  },
  {
   "cell_type": "code",
   "execution_count": 3,
   "id": "ab3c237f",
   "metadata": {},
   "outputs": [],
   "source": [
    "file = open('ALl.chr22_small_vcf.txt')\n",
    "lines = file.readlines()\n",
    "ls_22 = lines[22].split('\\t')"
   ]
  },
  {
   "cell_type": "code",
   "execution_count": 4,
   "id": "bc5e056b",
   "metadata": {},
   "outputs": [],
   "source": [
    "c_indexs = [127, 128, 129, 130, 131, 132, 133, 148, 149, 150, 151, 160]\n",
    "f_indexs = [134, 135, 136, 137, 138, 139, 140, 152, 153, 154, 155, 166]\n",
    "m_indexs = [141, 142, 143, 144, 145, 146, 147, 156, 157, 158, 159, 'x']\n",
    "path = './data/person_all/'"
   ]
  },
  {
   "cell_type": "code",
   "execution_count": 5,
   "id": "841e7577",
   "metadata": {},
   "outputs": [],
   "source": [
    "all_index = list(range(9,514))\n",
    "all_index = [i for i in all_index if i not in c_indexs]\n",
    "all_index = [i for i in all_index if i not in f_indexs]\n",
    "all_index = [i for i in all_index if i not in m_indexs]\n",
    "d = {'ID':[], 'Kin_Result':[], 'Stranger_Result':[]}\n",
    "df = pd.DataFrame(d)"
   ]
  },
  {
   "cell_type": "code",
   "execution_count": 6,
   "id": "d996d9f0",
   "metadata": {},
   "outputs": [],
   "source": [
    "for i in range(len(c_indexs)):\n",
    "    fa = pd.read_csv(path + str(f_indexs[i]-9)+ '_A.txt',delimiter=\"\\t\",names = ['snp'])\n",
    "    fb = pd.read_csv(path + str(f_indexs[i]-9)+ '_B.txt',delimiter=\"\\t\",names = ['snp'])\n",
    "    f = pd.merge(fa['snp'],fb['snp'],how='inner')\n",
    "    ca = pd.read_csv(path + str(c_indexs[i]-9)+ '_A.txt',delimiter=\"\\t\",names = ['snp'])\n",
    "    cb = pd.read_csv(path + str(c_indexs[i]-9)+ '_B.txt',delimiter=\"\\t\",names = ['snp'])\n",
    "    c = pd.merge(ca['snp'],cb['snp'],how = 'outer')\n",
    "    st = random.choice(all_index)\n",
    "    sa = pd.read_csv(path + str(st-9)+ '_A.txt',delimiter=\"\\t\",names = ['snp'])\n",
    "    sb = pd.read_csv(path + str(st-9)+ '_B.txt',delimiter=\"\\t\",names = ['snp'])\n",
    "    s = pd.merge(sa['snp'],sb['snp'],how='inner')\n",
    "    cf = pd.merge(c['snp'],f['snp'],how = 'inner')\n",
    "    cs = pd.merge(c['snp'],s['snp'],how = 'inner')\n",
    "    rs1 = round(cf.shape[0]/f.shape[0],4)\n",
    "    rs2 = round(cs.shape[0]/s.shape[0],4)\n",
    "    ids = ls_22[f_indexs[i]] + ' / ' + ls_22[c_indexs[i]]\n",
    "    df.loc[len(df.index)] = [ids, rs1, rs2]"
   ]
  },
  {
   "cell_type": "code",
   "execution_count": 7,
   "id": "979b175d",
   "metadata": {},
   "outputs": [
    {
     "data": {
      "text/html": [
       "<div>\n",
       "<style scoped>\n",
       "    .dataframe tbody tr th:only-of-type {\n",
       "        vertical-align: middle;\n",
       "    }\n",
       "\n",
       "    .dataframe tbody tr th {\n",
       "        vertical-align: top;\n",
       "    }\n",
       "\n",
       "    .dataframe thead th {\n",
       "        text-align: right;\n",
       "    }\n",
       "</style>\n",
       "<table border=\"1\" class=\"dataframe\">\n",
       "  <thead>\n",
       "    <tr style=\"text-align: right;\">\n",
       "      <th></th>\n",
       "      <th>ID</th>\n",
       "      <th>Kin_Result</th>\n",
       "      <th>Stranger_Result</th>\n",
       "    </tr>\n",
       "  </thead>\n",
       "  <tbody>\n",
       "    <tr>\n",
       "      <th>0</th>\n",
       "      <td>SC_GMFUL5306346 / SC_GMFUL5306338</td>\n",
       "      <td>0.9960</td>\n",
       "      <td>0.8343</td>\n",
       "    </tr>\n",
       "    <tr>\n",
       "      <th>1</th>\n",
       "      <td>SC_GMFUL5306347 / SC_GMFUL5306339</td>\n",
       "      <td>0.9966</td>\n",
       "      <td>0.8449</td>\n",
       "    </tr>\n",
       "    <tr>\n",
       "      <th>2</th>\n",
       "      <td>SC_GMFUL5306348 / SC_GMFUL5306340</td>\n",
       "      <td>0.9952</td>\n",
       "      <td>0.8352</td>\n",
       "    </tr>\n",
       "    <tr>\n",
       "      <th>3</th>\n",
       "      <td>SC_GMFUL5306349 / SC_GMFUL5306341</td>\n",
       "      <td>0.9966</td>\n",
       "      <td>0.8484</td>\n",
       "    </tr>\n",
       "    <tr>\n",
       "      <th>4</th>\n",
       "      <td>SC_GMFUL5306351 / SC_GMFUL5306343</td>\n",
       "      <td>0.9961</td>\n",
       "      <td>0.8303</td>\n",
       "    </tr>\n",
       "    <tr>\n",
       "      <th>5</th>\n",
       "      <td>SC_GMFUL5306352 / SC_GMFUL5306344</td>\n",
       "      <td>0.9965</td>\n",
       "      <td>0.8483</td>\n",
       "    </tr>\n",
       "    <tr>\n",
       "      <th>6</th>\n",
       "      <td>SC_GMFUL5306353 / SC_GMFUL5306345</td>\n",
       "      <td>0.9955</td>\n",
       "      <td>0.8393</td>\n",
       "    </tr>\n",
       "    <tr>\n",
       "      <th>7</th>\n",
       "      <td>SC_GMFUL5306371 / SC_GMFUL5306363</td>\n",
       "      <td>0.9965</td>\n",
       "      <td>0.8492</td>\n",
       "    </tr>\n",
       "    <tr>\n",
       "      <th>8</th>\n",
       "      <td>SC_GMFUL5306374 / SC_GMFUL5306366</td>\n",
       "      <td>0.9966</td>\n",
       "      <td>0.8240</td>\n",
       "    </tr>\n",
       "    <tr>\n",
       "      <th>9</th>\n",
       "      <td>SC_GMFUL5306375 / SC_GMFUL5306367</td>\n",
       "      <td>0.9959</td>\n",
       "      <td>0.8387</td>\n",
       "    </tr>\n",
       "    <tr>\n",
       "      <th>10</th>\n",
       "      <td>SC_GMFUL5306377 / SC_GMFUL5306369</td>\n",
       "      <td>0.9955</td>\n",
       "      <td>0.8487</td>\n",
       "    </tr>\n",
       "    <tr>\n",
       "      <th>11</th>\n",
       "      <td>SC_GMFUL5306395 / SC_GMFUL5306387</td>\n",
       "      <td>0.9969</td>\n",
       "      <td>0.8298</td>\n",
       "    </tr>\n",
       "  </tbody>\n",
       "</table>\n",
       "</div>"
      ],
      "text/plain": [
       "                                   ID  Kin_Result  Stranger_Result\n",
       "0   SC_GMFUL5306346 / SC_GMFUL5306338      0.9960           0.8343\n",
       "1   SC_GMFUL5306347 / SC_GMFUL5306339      0.9966           0.8449\n",
       "2   SC_GMFUL5306348 / SC_GMFUL5306340      0.9952           0.8352\n",
       "3   SC_GMFUL5306349 / SC_GMFUL5306341      0.9966           0.8484\n",
       "4   SC_GMFUL5306351 / SC_GMFUL5306343      0.9961           0.8303\n",
       "5   SC_GMFUL5306352 / SC_GMFUL5306344      0.9965           0.8483\n",
       "6   SC_GMFUL5306353 / SC_GMFUL5306345      0.9955           0.8393\n",
       "7   SC_GMFUL5306371 / SC_GMFUL5306363      0.9965           0.8492\n",
       "8   SC_GMFUL5306374 / SC_GMFUL5306366      0.9966           0.8240\n",
       "9   SC_GMFUL5306375 / SC_GMFUL5306367      0.9959           0.8387\n",
       "10  SC_GMFUL5306377 / SC_GMFUL5306369      0.9955           0.8487\n",
       "11  SC_GMFUL5306395 / SC_GMFUL5306387      0.9969           0.8298"
      ]
     },
     "execution_count": 7,
     "metadata": {},
     "output_type": "execute_result"
    }
   ],
   "source": [
    "df.to_csv('./data/test_result/actual_test_result.csv', index=False)\n",
    "df"
   ]
  }
 ],
 "metadata": {
  "kernelspec": {
   "display_name": "Python 3 (ipykernel)",
   "language": "python",
   "name": "python3"
  },
  "language_info": {
   "codemirror_mode": {
    "name": "ipython",
    "version": 3
   },
   "file_extension": ".py",
   "mimetype": "text/x-python",
   "name": "python",
   "nbconvert_exporter": "python",
   "pygments_lexer": "ipython3",
   "version": "3.9.12"
  }
 },
 "nbformat": 4,
 "nbformat_minor": 5
}
