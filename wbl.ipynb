{
 "cells": [
  {
   "cell_type": "code",
   "execution_count": 1,
   "id": "b5f3175b",
   "metadata": {},
   "outputs": [],
   "source": [
    "import helper_functions_v1 as hp\n",
    "import pandas as pd\n",
    "import random\n",
    "import numpy as np"
   ]
  },
  {
   "cell_type": "code",
   "execution_count": 2,
   "id": "e9d43ec5",
   "metadata": {},
   "outputs": [],
   "source": [
    "file = open('ALl.chr22_small_vcf.txt')\n",
    "lines = file.readlines()\n",
    "c_indexs = [127, 128, 129, 130, 131, 132, 133, 148, 149, 150, 151, 160]\n",
    "f_indexs = [134, 135, 136, 137, 138, 139, 140, 152, 153, 154, 155, 166]\n",
    "m_indexs = [141, 142, 143, 144, 145, 146, 147, 156, 157, 158, 159, 'x']\n",
    "ls_22 = lines[22].split('\\t')\n",
    "all_index = list(range(9,514))\n",
    "all_index = [i for i in all_index if i not in c_indexs]\n",
    "all_index = [i for i in all_index if i not in f_indexs]\n",
    "all_index = [i for i in all_index if i not in m_indexs]"
   ]
  },
  {
   "cell_type": "code",
   "execution_count": 3,
   "id": "4e39387f",
   "metadata": {},
   "outputs": [],
   "source": [
    "d = {'ID':[], 'Kin_Result':[], 'Stranger_Result':[]}\n",
    "df = pd.DataFrame(d)\n",
    "p = 0.5\n",
    "size = 2500000"
   ]
  }
 ],
 "metadata": {
  "kernelspec": {
   "display_name": "Python 3 (ipykernel)",
   "language": "python",
   "name": "python3"
  },
  "language_info": {
   "codemirror_mode": {
    "name": "ipython",
    "version": 3
   },
   "file_extension": ".py",
   "mimetype": "text/x-python",
   "name": "python",
   "nbconvert_exporter": "python",
   "pygments_lexer": "ipython3",
   "version": "3.9.12"
  }
 },
 "nbformat": 4,
 "nbformat_minor": 5
}
