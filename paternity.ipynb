{
 "cells": [
  {
   "cell_type": "code",
   "execution_count": 2,
   "id": "d8ca9328-7d68-4a31-b06d-e8177e141481",
   "metadata": {},
   "outputs": [],
   "source": [
    "import helper_functions as hp\n",
    "import pandas as pd\n",
    "import random\n",
    "import numpy as np"
   ]
  },
  {
   "cell_type": "code",
   "execution_count": 191,
   "id": "74c6504a",
   "metadata": {},
   "outputs": [
    {
     "name": "stderr",
     "output_type": "stream",
     "text": [
      "/var/folders/7q/9jgys8t94kg68mx3fyvrxnmh0000gn/T/ipykernel_13206/3453513377.py:10: SettingWithCopyWarning: \n",
      "A value is trying to be set on a copy of a slice from a DataFrame.\n",
      "Try using .loc[row_indexer,col_indexer] = value instead\n",
      "\n",
      "See the caveats in the documentation: https://pandas.pydata.org/pandas-docs/stable/user_guide/indexing.html#returning-a-view-versus-a-copy\n",
      "  s[s['Siblings'] == e]['Siblings'] = e.split(',')[0]\n"
     ]
    }
   ],
   "source": [
    "name = pd.read_csv('./data2013/all_small_data_name.csv')\n",
    "df = pd.read_csv('./data2013/relationship.csv')\n",
    "s = df[(df['Siblings'] !='0') & (df['Other Comments'] == '0')]\n",
    "s = s.drop(s[s['Siblings'] == 'NA20301'].index)\n",
    "s = s.drop(s[s['Siblings'] == 'NA20285'].index)\n",
    "s = s.drop(s[s['Siblings'] == 'NA20284'].index)\n",
    "s = s.drop(s[s['Individual ID'] == 'NA20313'].index)\n",
    "s = s.drop(s[s['Individual ID'] == 'NA20301'].index)\n",
    "for e in s['Siblings']:\n",
    "    s[s['Siblings'] == e]['Siblings'] = e.split(',')[0]\n",
    "s_list = ['NA19713','NA20289','NA20334','NA19660','HG00501','HG00501','HG00512','HG00578','HG00577','HG00578',\n",
    "          'HG00581','NA19331','NA19347','NA19373']\n",
    "i_list = ['NA19985','NA20341','NA20336','NA19672','HG00512','HG00524','HG00524','HG00581','HG00584','HG00635',\n",
    "         'HG00635','NA19334','NA19352','NA19374']\n",
    "\n"
   ]
  },
  {
   "cell_type": "code",
   "execution_count": 203,
   "id": "da70ee36",
   "metadata": {},
   "outputs": [],
   "source": [
    "second_list = ['NA19625','NA20359','NA19657','NA19660','NA19664','NA19672','NA19726']\n",
    "second_i_list = ['NA20414','NA20363','NA19753','NA19664','NA19672','NA19685','NA19738']"
   ]
  },
  {
   "cell_type": "code",
   "execution_count": 152,
   "id": "acb09bb5",
   "metadata": {},
   "outputs": [],
   "source": [
    "p_list = ['NA19660','NA19661','NA19675','NA19675','HG00656','HG00657','NA19313','NA19381','NA19445','NA19469']\n",
    "c_list = ['NA19685','NA19685','NA19678','NA19679','HG00702','HG00702','NA19331','NA19382','NA19453','NA19470']"
   ]
  },
  {
   "cell_type": "code",
   "execution_count": 64,
   "id": "923dd94b",
   "metadata": {},
   "outputs": [
    {
     "data": {
      "text/html": [
       "<div>\n",
       "<style scoped>\n",
       "    .dataframe tbody tr th:only-of-type {\n",
       "        vertical-align: middle;\n",
       "    }\n",
       "\n",
       "    .dataframe tbody tr th {\n",
       "        vertical-align: top;\n",
       "    }\n",
       "\n",
       "    .dataframe thead th {\n",
       "        text-align: right;\n",
       "    }\n",
       "</style>\n",
       "<table border=\"1\" class=\"dataframe\">\n",
       "  <thead>\n",
       "    <tr style=\"text-align: right;\">\n",
       "      <th></th>\n",
       "      <th>name</th>\n",
       "    </tr>\n",
       "  </thead>\n",
       "  <tbody>\n",
       "    <tr>\n",
       "      <th>2205</th>\n",
       "      <td>NA19713</td>\n",
       "    </tr>\n",
       "  </tbody>\n",
       "</table>\n",
       "</div>"
      ],
      "text/plain": [
       "         name\n",
       "2205  NA19713"
      ]
     },
     "execution_count": 64,
     "metadata": {},
     "output_type": "execute_result"
    }
   ],
   "source": [
    "name[name['name'] == 'NA19713']"
   ]
  },
  {
   "cell_type": "markdown",
   "id": "f4d537f3-7f23-465d-9cb4-fc517e4fcc64",
   "metadata": {},
   "source": [
    "## Find kinship data for testing"
   ]
  },
  {
   "cell_type": "code",
   "execution_count": 9,
   "id": "a19d37fb-0450-42b4-a706-c80bf3f82999",
   "metadata": {},
   "outputs": [],
   "source": [
    "file = open('ALl.chr22_small_vcf.txt')\n",
    "lines = file.readlines()"
   ]
  },
  {
   "cell_type": "code",
   "execution_count": 10,
   "id": "48ae18fc-f01d-47fb-9424-8797ad3a747b",
   "metadata": {},
   "outputs": [],
   "source": [
    "c_indexs = [127, 128, 129, 130, 131, 132, 133, 148, 149, 150, 151, 160]\n",
    "f_indexs = [134, 135, 136, 137, 138, 139, 140, 152, 153, 154, 155, 166]\n",
    "m_indexs = [141, 142, 143, 144, 145, 146, 147, 156, 157, 158, 159, 'x']\n",
    "ls_22 = lines[22].split('\\t')"
   ]
  },
  {
   "cell_type": "markdown",
   "id": "5ef92a7b-7a4e-49c8-bb16-3186cc1a5ef5",
   "metadata": {},
   "source": [
    "## Test the data and put in csv"
   ]
  },
  {
   "cell_type": "code",
   "execution_count": 209,
   "id": "f7cc8030-48f0-482e-8e82-5d06dd91bf4e",
   "metadata": {},
   "outputs": [],
   "source": [
    "d = {'ID':[], 'Kin_Result':[], 'Stranger_Result':[]}\n",
    "result = pd.DataFrame(d)\n",
    "p = 750000\n",
    "chr = '16'\n",
    "path = './data2013/person/chr22/'"
   ]
  },
  {
   "cell_type": "code",
   "execution_count": 196,
   "id": "2d9a587f",
   "metadata": {},
   "outputs": [],
   "source": [
    "all_index = list(name['name'])\n",
    "all_index = [i for i in all_index if i not in second_list]\n",
    "all_index = [i for i in all_index if i not in second_i_list]\n",
    "#all_index = [i for i in all_index if i not in m_indexs]"
   ]
  },
  {
   "cell_type": "code",
   "execution_count": 207,
   "id": "5330d0b2-f76c-4e15-9a21-c59f67da3463",
   "metadata": {
    "scrolled": false
   },
   "outputs": [
    {
     "name": "stdout",
     "output_type": "stream",
     "text": [
      "HG03212\n",
      "HG03694\n",
      "HG02265\n",
      "HG00154\n",
      "HG02396\n",
      "HG03452\n",
      "HG03108\n"
     ]
    }
   ],
   "source": [
    "for i in range(len(second_list)):\n",
    "    bfc1 = hp.generate_bloom(path + second_i_list[i] + '_A.txt', p)\n",
    "    bfc2 = hp.generate_bloom(path + second_i_list[i] + '_B.txt', p)\n",
    "    bff1 = hp.generate_bloom(path + second_list[i] + '_A.txt', p)\n",
    "    bff2 = hp.generate_bloom(path + second_list[i] + '_B.txt', p)\n",
    "    st_index = random.choice(all_index)  # stranger\n",
    "    print(st_index)\n",
    "    bfs1 = hp.generate_bloom(path + str(st_index) + '_A.txt', p)\n",
    "    bfs2 = hp.generate_bloom(path + str(st_index) + '_B.txt', p)\n",
    "    \n",
    "    # Test father with child\n",
    "    homo_num = hp.card_inter(bff1,bff2)\n",
    "    kin_result = hp.inherit_test(bff1, bff2, bfc1, bfc2)\n",
    "    rs1 = round(kin_result/homo_num, 4)\n",
    "    # Test father with stranger\n",
    "    stra_result = hp.inherit_test(bfs1, bfs2, bfc1, bfc2)\n",
    "    rs2 = round(stra_result/homo_num, 4)\n",
    "    \n",
    "    # Add into csv\n",
    "    ids = second_i_list[i] + ' / ' + second_list[i]\n",
    "    result.loc[len(result.index)] = [ids, rs1, rs2]"
   ]
  },
  {
   "cell_type": "code",
   "execution_count": 208,
   "id": "b2108868-9bd1-4708-958d-6d064530860f",
   "metadata": {
    "scrolled": false
   },
   "outputs": [
    {
     "data": {
      "text/html": [
       "<div>\n",
       "<style scoped>\n",
       "    .dataframe tbody tr th:only-of-type {\n",
       "        vertical-align: middle;\n",
       "    }\n",
       "\n",
       "    .dataframe tbody tr th {\n",
       "        vertical-align: top;\n",
       "    }\n",
       "\n",
       "    .dataframe thead th {\n",
       "        text-align: right;\n",
       "    }\n",
       "</style>\n",
       "<table border=\"1\" class=\"dataframe\">\n",
       "  <thead>\n",
       "    <tr style=\"text-align: right;\">\n",
       "      <th></th>\n",
       "      <th>ID</th>\n",
       "      <th>Kin_Result</th>\n",
       "      <th>Stranger_Result</th>\n",
       "    </tr>\n",
       "  </thead>\n",
       "  <tbody>\n",
       "    <tr>\n",
       "      <th>0</th>\n",
       "      <td>NA20414 / NA19625</td>\n",
       "      <td>0.1373</td>\n",
       "      <td>-0.1909</td>\n",
       "    </tr>\n",
       "    <tr>\n",
       "      <th>1</th>\n",
       "      <td>NA20363 / NA20359</td>\n",
       "      <td>0.2660</td>\n",
       "      <td>0.5307</td>\n",
       "    </tr>\n",
       "    <tr>\n",
       "      <th>2</th>\n",
       "      <td>NA19753 / NA19657</td>\n",
       "      <td>0.7977</td>\n",
       "      <td>0.9129</td>\n",
       "    </tr>\n",
       "    <tr>\n",
       "      <th>3</th>\n",
       "      <td>NA19664 / NA19660</td>\n",
       "      <td>0.9720</td>\n",
       "      <td>0.9995</td>\n",
       "    </tr>\n",
       "    <tr>\n",
       "      <th>4</th>\n",
       "      <td>NA19672 / NA19664</td>\n",
       "      <td>0.4393</td>\n",
       "      <td>0.2220</td>\n",
       "    </tr>\n",
       "    <tr>\n",
       "      <th>5</th>\n",
       "      <td>NA19685 / NA19672</td>\n",
       "      <td>0.9231</td>\n",
       "      <td>-0.1720</td>\n",
       "    </tr>\n",
       "    <tr>\n",
       "      <th>6</th>\n",
       "      <td>NA19738 / NA19726</td>\n",
       "      <td>0.6483</td>\n",
       "      <td>-0.1792</td>\n",
       "    </tr>\n",
       "  </tbody>\n",
       "</table>\n",
       "</div>"
      ],
      "text/plain": [
       "                  ID  Kin_Result  Stranger_Result\n",
       "0  NA20414 / NA19625      0.1373          -0.1909\n",
       "1  NA20363 / NA20359      0.2660           0.5307\n",
       "2  NA19753 / NA19657      0.7977           0.9129\n",
       "3  NA19664 / NA19660      0.9720           0.9995\n",
       "4  NA19672 / NA19664      0.4393           0.2220\n",
       "5  NA19685 / NA19672      0.9231          -0.1720\n",
       "6  NA19738 / NA19726      0.6483          -0.1792"
      ]
     },
     "metadata": {},
     "output_type": "display_data"
    }
   ],
   "source": [
    "#df.insert(df.shape[1], 'chr', chr)\n",
    "display(result)\n",
    "result.to_csv('./data2013/test_result/second_order_test_result.csv', index=False)"
   ]
  },
  {
   "cell_type": "code",
   "execution_count": null,
   "id": "62b2b75c",
   "metadata": {},
   "outputs": [],
   "source": []
  }
 ],
 "metadata": {
  "kernelspec": {
   "display_name": "Python 3 (ipykernel)",
   "language": "python",
   "name": "python3"
  },
  "language_info": {
   "codemirror_mode": {
    "name": "ipython",
    "version": 3
   },
   "file_extension": ".py",
   "mimetype": "text/x-python",
   "name": "python",
   "nbconvert_exporter": "python",
   "pygments_lexer": "ipython3",
   "version": "3.9.12"
  }
 },
 "nbformat": 4,
 "nbformat_minor": 5
}
