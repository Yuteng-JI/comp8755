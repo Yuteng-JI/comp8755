{
 "cells": [
  {
   "cell_type": "code",
   "execution_count": 1,
   "id": "c4d4c3d3",
   "metadata": {},
   "outputs": [],
   "source": [
    "import pandas as pd\n",
    "import math\n",
    "# import ray \n",
    "# ray.init(num_cpus = 8)\n",
    "#import modin.pandas as pd\n",
    "import gzip\n",
    "import os\n",
    "import shutil"
   ]
  },
  {
   "cell_type": "code",
   "execution_count": null,
   "id": "2ddf907f",
   "metadata": {},
   "outputs": [],
   "source": []
  },
  {
   "cell_type": "code",
   "execution_count": 2,
   "id": "17926a8a",
   "metadata": {},
   "outputs": [],
   "source": [
    "def transfer_csv(base):\n",
    "    for root, ds, fs in os.walk(base):\n",
    "        for f in fs:\n",
    "            n = f.split('.')\n",
    "            if(n[-1] == 'gz'):\n",
    "                names = get_vcf_names(root+f)\n",
    "                vcf = pd.read_csv(root+f, compression='gzip', comment='#', delim_whitespace=True, header=None, names=names)\n",
    "                vcf.to_csv(\"./data/csv_data/\"+n[1]+\".csv\",index= False)\n",
    "            \n",
    "            "
   ]
  },
  {
   "cell_type": "code",
   "execution_count": 3,
   "id": "38e97a75",
   "metadata": {},
   "outputs": [],
   "source": [
    "def get_vcf_names(vcf_path):\n",
    "    with gzip.open(vcf_path, \"rt\") as ifile:\n",
    "          for line in ifile:\n",
    "            if line.startswith(\"#CHROM\"):\n",
    "                  vcf_names = [x for x in line.split('\\t')]\n",
    "                  break\n",
    "    ifile.close()\n",
    "    return vcf_names"
   ]
  },
  {
   "cell_type": "code",
   "execution_count": 8,
   "id": "61a52d44",
   "metadata": {},
   "outputs": [],
   "source": [
    "base = './data/gz_data/'\n",
    "transfer_csv(base)"
   ]
  },
  {
   "cell_type": "code",
   "execution_count": 10,
   "id": "759da13e",
   "metadata": {},
   "outputs": [],
   "source": [
    "df = pd.read_csv('./data/csv_data/chr22.csv')"
   ]
  },
  {
   "cell_type": "code",
   "execution_count": null,
   "id": "81649683",
   "metadata": {},
   "outputs": [],
   "source": [
    "file_path = './data/csv_data/chr22.csv'\n",
    "chr_csv = pd.read_csv(file_path)\n",
    "newchr = chr_csv.replace({'1|1':1,'0|1':0.5,'1|0':0.5,'0|0':0})\n",
    "chr_csv['POS'] = chr_csv['POS'].astype('str')\n",
    "chr_csv['ALT'] = chr_csv['ALT'].str.cat(chr_csv['POS'],sep='/')\n",
    "newchr.index = chr_csv['ALT']\n",
    "new_chr = newchr.iloc[:,9:]\n",
    "new_chr.to_csv(\"./data/new_csv/chr22.csv\",index=True)\n",
    "new_chr"
   ]
  },
  {
   "cell_type": "code",
   "execution_count": 17,
   "id": "b302b257",
   "metadata": {},
   "outputs": [
    {
     "data": {
      "text/html": [
       "<div>\n",
       "<style scoped>\n",
       "    .dataframe tbody tr th:only-of-type {\n",
       "        vertical-align: middle;\n",
       "    }\n",
       "\n",
       "    .dataframe tbody tr th {\n",
       "        vertical-align: top;\n",
       "    }\n",
       "\n",
       "    .dataframe thead th {\n",
       "        text-align: right;\n",
       "    }\n",
       "</style>\n",
       "<table border=\"1\" class=\"dataframe\">\n",
       "  <thead>\n",
       "    <tr style=\"text-align: right;\">\n",
       "      <th></th>\n",
       "      <th>#CHROM</th>\n",
       "      <th>POS</th>\n",
       "      <th>ID</th>\n",
       "      <th>REF</th>\n",
       "      <th>ALT</th>\n",
       "      <th>QUAL</th>\n",
       "      <th>FILTER</th>\n",
       "      <th>INFO</th>\n",
       "      <th>FORMAT</th>\n",
       "      <th>HG02461</th>\n",
       "      <th>...</th>\n",
       "      <th>SC_GMWOF5428867</th>\n",
       "      <th>SC_GMWOF5428869</th>\n",
       "      <th>SC_GMWOF5428871</th>\n",
       "      <th>SC_GMWOF5428873</th>\n",
       "      <th>SC_GMWOF5428874</th>\n",
       "      <th>SC_GMWOF5428875</th>\n",
       "      <th>SC_GMWOF5428877</th>\n",
       "      <th>SC_GMWOF5428879</th>\n",
       "      <th>SC_GMWOF5428882</th>\n",
       "      <th>SC_GMWOF5428906\\n</th>\n",
       "    </tr>\n",
       "  </thead>\n",
       "  <tbody>\n",
       "    <tr>\n",
       "      <th>111</th>\n",
       "      <td>22</td>\n",
       "      <td>10519687</td>\n",
       "      <td>.</td>\n",
       "      <td>C</td>\n",
       "      <td>T</td>\n",
       "      <td>.</td>\n",
       "      <td>PASS</td>\n",
       "      <td>DP=7702;AN=1010;AC=11;AF=0.01;GWD_AF=0.01;GWF_...</td>\n",
       "      <td>GT</td>\n",
       "      <td>0|0</td>\n",
       "      <td>...</td>\n",
       "      <td>0|0</td>\n",
       "      <td>0|0</td>\n",
       "      <td>0|0</td>\n",
       "      <td>0|0</td>\n",
       "      <td>0|0</td>\n",
       "      <td>0|0</td>\n",
       "      <td>0|0</td>\n",
       "      <td>0|0</td>\n",
       "      <td>0|0</td>\n",
       "      <td>0|0</td>\n",
       "    </tr>\n",
       "    <tr>\n",
       "      <th>112</th>\n",
       "      <td>22</td>\n",
       "      <td>10519687</td>\n",
       "      <td>.</td>\n",
       "      <td>C</td>\n",
       "      <td>CT</td>\n",
       "      <td>.</td>\n",
       "      <td>PASS</td>\n",
       "      <td>DP=7702;AN=1010;AC=2;AF=0;GWD_AF=0.01;GWF_AF=0...</td>\n",
       "      <td>GT</td>\n",
       "      <td>0|0</td>\n",
       "      <td>...</td>\n",
       "      <td>0|0</td>\n",
       "      <td>0|0</td>\n",
       "      <td>0|0</td>\n",
       "      <td>0|0</td>\n",
       "      <td>0|0</td>\n",
       "      <td>0|0</td>\n",
       "      <td>0|0</td>\n",
       "      <td>0|0</td>\n",
       "      <td>0|0</td>\n",
       "      <td>0|0</td>\n",
       "    </tr>\n",
       "  </tbody>\n",
       "</table>\n",
       "<p>2 rows × 514 columns</p>\n",
       "</div>"
      ],
      "text/plain": [
       "     #CHROM       POS ID REF ALT QUAL FILTER  \\\n",
       "111      22  10519687  .   C   T    .   PASS   \n",
       "112      22  10519687  .   C  CT    .   PASS   \n",
       "\n",
       "                                                  INFO FORMAT HG02461  ...  \\\n",
       "111  DP=7702;AN=1010;AC=11;AF=0.01;GWD_AF=0.01;GWF_...     GT     0|0  ...   \n",
       "112  DP=7702;AN=1010;AC=2;AF=0;GWD_AF=0.01;GWF_AF=0...     GT     0|0  ...   \n",
       "\n",
       "    SC_GMWOF5428867 SC_GMWOF5428869 SC_GMWOF5428871 SC_GMWOF5428873  \\\n",
       "111             0|0             0|0             0|0             0|0   \n",
       "112             0|0             0|0             0|0             0|0   \n",
       "\n",
       "    SC_GMWOF5428874 SC_GMWOF5428875 SC_GMWOF5428877 SC_GMWOF5428879  \\\n",
       "111             0|0             0|0             0|0             0|0   \n",
       "112             0|0             0|0             0|0             0|0   \n",
       "\n",
       "    SC_GMWOF5428882 SC_GMWOF5428906\\n  \n",
       "111             0|0               0|0  \n",
       "112             0|0               0|0  \n",
       "\n",
       "[2 rows x 514 columns]"
      ]
     },
     "execution_count": 17,
     "metadata": {},
     "output_type": "execute_result"
    }
   ],
   "source": [
    "df[df[\"POS\"] == 10519687]"
   ]
  },
  {
   "cell_type": "code",
   "execution_count": 102,
   "id": "698f3fb7",
   "metadata": {
    "scrolled": false
   },
   "outputs": [],
   "source": [
    "a = df.iloc[:,:9]\n",
    "b = df['NA19738'].map(lambda x: x.split(\":\")[0])\n",
    "c = pd.concat([a,b],axis = 1)\n"
   ]
  },
  {
   "cell_type": "code",
   "execution_count": 103,
   "id": "99448935",
   "metadata": {},
   "outputs": [
    {
     "name": "stdout",
     "output_type": "stream",
     "text": [
      "Done!\n"
     ]
    }
   ],
   "source": [
    "path = './data2013/person/chr22/'\n",
    "for idx,row in c.iterrows():\n",
    "    partInfo = str(row['#CHROM'])+'/'+str(row['POS'])+'/'+row['REF']+'/'+row['ALT']\n",
    "    for item in row[row == '1|1'].index.to_list():\n",
    "        f = open(path +'/' + item + '_A.txt','a')\n",
    "        f.write('\\n' + partInfo)\n",
    "        f.close()\n",
    "        f = open(path +'/' + item + '_B.txt','a')\n",
    "        f.write('\\n'+ partInfo)\n",
    "        f.close()\n",
    "    for item in row[row == '0|1'].index.to_list():\n",
    "        f = open(path +'/' + item + '_B.txt','a')\n",
    "        f.write('\\n'+ partInfo)\n",
    "        f.close()\n",
    "    for item in row[row == '1|0'].index.to_list():\n",
    "        f = open(path + '/' + item + '_A.txt','a')\n",
    "        f.write('\\n' + partInfo)\n",
    "        f.close()\n",
    "print('Done!')"
   ]
  },
  {
   "cell_type": "code",
   "execution_count": 2,
   "id": "66d66568",
   "metadata": {},
   "outputs": [],
   "source": [
    "name = pd.read_csv('./data2013/all_small_data_name.csv')\n"
   ]
  },
  {
   "cell_type": "code",
   "execution_count": 26,
   "id": "ac5dc724",
   "metadata": {},
   "outputs": [
    {
     "data": {
      "text/html": [
       "<div>\n",
       "<style scoped>\n",
       "    .dataframe tbody tr th:only-of-type {\n",
       "        vertical-align: middle;\n",
       "    }\n",
       "\n",
       "    .dataframe tbody tr th {\n",
       "        vertical-align: top;\n",
       "    }\n",
       "\n",
       "    .dataframe thead th {\n",
       "        text-align: right;\n",
       "    }\n",
       "</style>\n",
       "<table border=\"1\" class=\"dataframe\">\n",
       "  <thead>\n",
       "    <tr style=\"text-align: right;\">\n",
       "      <th></th>\n",
       "      <th>name</th>\n",
       "    </tr>\n",
       "  </thead>\n",
       "  <tbody>\n",
       "    <tr>\n",
       "      <th>0</th>\n",
       "      <td>#CHROM</td>\n",
       "    </tr>\n",
       "    <tr>\n",
       "      <th>1</th>\n",
       "      <td>POS</td>\n",
       "    </tr>\n",
       "    <tr>\n",
       "      <th>2</th>\n",
       "      <td>ID</td>\n",
       "    </tr>\n",
       "    <tr>\n",
       "      <th>3</th>\n",
       "      <td>REF</td>\n",
       "    </tr>\n",
       "    <tr>\n",
       "      <th>4</th>\n",
       "      <td>ALT</td>\n",
       "    </tr>\n",
       "    <tr>\n",
       "      <th>...</th>\n",
       "      <td>...</td>\n",
       "    </tr>\n",
       "    <tr>\n",
       "      <th>2508</th>\n",
       "      <td>NA21137</td>\n",
       "    </tr>\n",
       "    <tr>\n",
       "      <th>2509</th>\n",
       "      <td>NA21141</td>\n",
       "    </tr>\n",
       "    <tr>\n",
       "      <th>2510</th>\n",
       "      <td>NA21142</td>\n",
       "    </tr>\n",
       "    <tr>\n",
       "      <th>2511</th>\n",
       "      <td>NA21143</td>\n",
       "    </tr>\n",
       "    <tr>\n",
       "      <th>2512</th>\n",
       "      <td>NA21144\\n</td>\n",
       "    </tr>\n",
       "  </tbody>\n",
       "</table>\n",
       "<p>2513 rows × 1 columns</p>\n",
       "</div>"
      ],
      "text/plain": [
       "           name\n",
       "0        #CHROM\n",
       "1           POS\n",
       "2            ID\n",
       "3           REF\n",
       "4           ALT\n",
       "...         ...\n",
       "2508    NA21137\n",
       "2509    NA21141\n",
       "2510    NA21142\n",
       "2511    NA21143\n",
       "2512  NA21144\\n\n",
       "\n",
       "[2513 rows x 1 columns]"
      ]
     },
     "execution_count": 26,
     "metadata": {},
     "output_type": "execute_result"
    }
   ],
   "source": [
    "name.to_csv('./data2013/all_small_data_name.csv',index=False)\n",
    "name"
   ]
  },
  {
   "cell_type": "code",
   "execution_count": 2,
   "id": "aa2ee3d7",
   "metadata": {},
   "outputs": [
    {
     "data": {
      "text/html": [
       "<div>\n",
       "<style scoped>\n",
       "    .dataframe tbody tr th:only-of-type {\n",
       "        vertical-align: middle;\n",
       "    }\n",
       "\n",
       "    .dataframe tbody tr th {\n",
       "        vertical-align: top;\n",
       "    }\n",
       "\n",
       "    .dataframe thead th {\n",
       "        text-align: right;\n",
       "    }\n",
       "</style>\n",
       "<table border=\"1\" class=\"dataframe\">\n",
       "  <thead>\n",
       "    <tr style=\"text-align: right;\">\n",
       "      <th></th>\n",
       "      <th>name</th>\n",
       "    </tr>\n",
       "  </thead>\n",
       "  <tbody>\n",
       "    <tr>\n",
       "      <th>0</th>\n",
       "      <td>HG02461</td>\n",
       "    </tr>\n",
       "    <tr>\n",
       "      <th>1</th>\n",
       "      <td>HG02462</td>\n",
       "    </tr>\n",
       "    <tr>\n",
       "      <th>2</th>\n",
       "      <td>HG02464</td>\n",
       "    </tr>\n",
       "    <tr>\n",
       "      <th>3</th>\n",
       "      <td>HG02465</td>\n",
       "    </tr>\n",
       "    <tr>\n",
       "      <th>4</th>\n",
       "      <td>HG02561</td>\n",
       "    </tr>\n",
       "    <tr>\n",
       "      <th>...</th>\n",
       "      <td>...</td>\n",
       "    </tr>\n",
       "    <tr>\n",
       "      <th>500</th>\n",
       "      <td>SC_GMWOF5428875</td>\n",
       "    </tr>\n",
       "    <tr>\n",
       "      <th>501</th>\n",
       "      <td>SC_GMWOF5428877</td>\n",
       "    </tr>\n",
       "    <tr>\n",
       "      <th>502</th>\n",
       "      <td>SC_GMWOF5428879</td>\n",
       "    </tr>\n",
       "    <tr>\n",
       "      <th>503</th>\n",
       "      <td>SC_GMWOF5428882</td>\n",
       "    </tr>\n",
       "    <tr>\n",
       "      <th>504</th>\n",
       "      <td>SC_GMWOF5428906</td>\n",
       "    </tr>\n",
       "  </tbody>\n",
       "</table>\n",
       "<p>505 rows × 1 columns</p>\n",
       "</div>"
      ],
      "text/plain": [
       "                name\n",
       "0            HG02461\n",
       "1            HG02462\n",
       "2            HG02464\n",
       "3            HG02465\n",
       "4            HG02561\n",
       "..               ...\n",
       "500  SC_GMWOF5428875\n",
       "501  SC_GMWOF5428877\n",
       "502  SC_GMWOF5428879\n",
       "503  SC_GMWOF5428882\n",
       "504  SC_GMWOF5428906\n",
       "\n",
       "[505 rows x 1 columns]"
      ]
     },
     "execution_count": 2,
     "metadata": {},
     "output_type": "execute_result"
    }
   ],
   "source": [
    "df = pd.read_csv('all_small_data_name.csv')\n",
    "df"
   ]
  },
  {
   "cell_type": "code",
   "execution_count": 18,
   "id": "2ad95d47",
   "metadata": {},
   "outputs": [],
   "source": [
    "dirs = os.listdir('./data2013/person')\n",
    "for i in range(22):\n",
    "    file_name = './data2013/person/chr' +str(i+1)\n",
    "    os.mkdir(file_name)\n"
   ]
  },
  {
   "cell_type": "code",
   "execution_count": 20,
   "id": "781033c5",
   "metadata": {},
   "outputs": [],
   "source": []
  },
  {
   "cell_type": "code",
   "execution_count": 21,
   "id": "612a336f",
   "metadata": {},
   "outputs": [],
   "source": [
    "l = name.iloc[9:,0].values.tolist()\n",
    "\n",
    "g = os.walk('./data2013/person/')  \n",
    "\n",
    "for path,dir_list,file_list in g:  \n",
    "    for dir_name in file_list:\n",
    "        for i in l:\n",
    "            #print(i)\n",
    "            f = open(path +'/' + i + '_A.txt','w')\n",
    "            f.write(i)\n",
    "            f.close()\n",
    "            f = open(path +'/' + i + '_B.txt','w')\n",
    "            f.write(i)\n",
    "            f.close()"
   ]
  },
  {
   "cell_type": "code",
   "execution_count": 63,
   "id": "15b9d2c6",
   "metadata": {},
   "outputs": [
    {
     "name": "stdout",
     "output_type": "stream",
     "text": [
      "Done!\n"
     ]
    }
   ],
   "source": [
    "path = './data2013/person/chr22/'\n",
    "for idx,row in c.iterrows():\n",
    "    partInfo = str(row['#CHROM'])+'/'+str(row['POS'])+'/'+row['REF']+'/'+row['ALT']\n",
    "    for item in row[row == '1|1'].index.to_list():\n",
    "        f = open(path +'/' + item + '_A.txt','a')\n",
    "        f.write('\\n' + partInfo)\n",
    "        f.close()\n",
    "        f = open(path +'/' + item + '_B.txt','a')\n",
    "        f.write('\\n'+ partInfo)\n",
    "        f.close()\n",
    "    for item in row[row == '0|1'].index.to_list():\n",
    "        f = open(path +'/' + item + '_B.txt','a')\n",
    "        f.write('\\n'+ partInfo)\n",
    "        f.close()\n",
    "    for item in row[row == '1|0'].index.to_list():\n",
    "        f = open(path + '/' + item + '_A.txt','a')\n",
    "        f.write('\\n' + partInfo)\n",
    "        f.close()\n",
    "print('Done!')"
   ]
  },
  {
   "cell_type": "code",
   "execution_count": 3,
   "id": "c43b15d3",
   "metadata": {},
   "outputs": [],
   "source": [
    "#'./data/person/chr1Person/'\n",
    "def transfer_person(path,data):\n",
    "    for idx,row in data.iterrows():\n",
    "        partInfo = str(row['#CHROM'])+'/'+str(row['POS'])+'/'+row['REF']+'/'+row['ALT']\n",
    "        #print(\"write \")\n",
    "        for item in row[row == '1|1'].index.to_list():\n",
    "            \n",
    "            f = open(path +'/' + item + '_A.txt','a')\n",
    "            f.write('\\n' + partInfo)\n",
    "            f.close()\n",
    "            f = open(path +'/' + item + '_B.txt','a')\n",
    "            f.write('\\n'+ partInfo)\n",
    "            f.close()\n",
    "        for item in row[row == '0|1'].index.to_list():\n",
    "            f = open(path +'/' + item + '_B.txt','a')\n",
    "            f.write('\\n'+ partInfo)\n",
    "            f.close()\n",
    "        for item in row[row == '1|0'].index.to_list():\n",
    "            f = open(path + '/' + item + '_A.txt','a')\n",
    "            f.write('\\n' + partInfo)\n",
    "            f.close()\n",
    "            \n",
    "    #print()\n",
    "    #print(\"[{}]: {}\".format(idx,col))"
   ]
  },
  {
   "cell_type": "code",
   "execution_count": null,
   "id": "9a4299b8",
   "metadata": {},
   "outputs": [],
   "source": []
  },
  {
   "cell_type": "code",
   "execution_count": 4,
   "id": "d85666a3",
   "metadata": {},
   "outputs": [],
   "source": [
    "def transfer_txt(csvdir):\n",
    "    for root, ds, fs in os.walk(csvdir):\n",
    "        for f in fs:\n",
    "            name = f.split('.')\n",
    "            if(name[1] == 'csv'):\n",
    "                data = pd.read_csv(csvdir + f)\n",
    "                transfer_person('./data2013/person/'+name[0], data)\n",
    "                print(name[0]+' done!')\n",
    "                "
   ]
  },
  {
   "cell_type": "code",
   "execution_count": 5,
   "id": "785227eb",
   "metadata": {
    "scrolled": false
   },
   "outputs": [
    {
     "name": "stdout",
     "output_type": "stream",
     "text": [
      "chr22 done!\n"
     ]
    }
   ],
   "source": [
    "csvdir = './data2013/csv_data/'\n",
    "transfer_txt(csvdir)"
   ]
  },
  {
   "cell_type": "code",
   "execution_count": 7,
   "id": "6164d41f",
   "metadata": {},
   "outputs": [
    {
     "name": "stdout",
     "output_type": "stream",
     "text": [
      "chr1 done!\n"
     ]
    }
   ],
   "source": [
    "data = pd.read_csv('/Users/yutengji/Documents/blockchain_dna/data/csv_data/chr1.csv')\n",
    "\n",
    "transfer_person('./data/person_t/chr1', data)\n",
    "print('chr1 done!')"
   ]
  },
  {
   "cell_type": "code",
   "execution_count": null,
   "id": "7826f6fa",
   "metadata": {},
   "outputs": [],
   "source": [
    "def cut_df(df, n):\n",
    "    \n",
    "    df_num = len(df)\n",
    "    every_epoch_num = nath.floor((df_num/n))\n",
    "    for index in tqdm(range(n)):\n",
    "        file_name = './data/csv_data/chr5_{index}.csv'\n",
    "        if index < n-1:\n",
    "            df_tem = df[every_epoch_num * index: every_epoch_num * (index + 1)]\n",
    "        else:\n",
    "            df_tem = df[every_epoch_num * index:]\n",
    "        df_tem.to_csv(file_name, index=False)"
   ]
  },
  {
   "cell_type": "code",
   "execution_count": 22,
   "id": "95e7b8c1",
   "metadata": {},
   "outputs": [],
   "source": [
    "data = pd.read_csv('/Users/yutengji/Documents/blockchain_dna/data/csv_data copy/chr6.csv')\n",
    "data1 = data.iloc[:,100:202]\n"
   ]
  },
  {
   "cell_type": "code",
   "execution_count": 23,
   "id": "a5ce72f7",
   "metadata": {},
   "outputs": [],
   "source": [
    "data2 = data.iloc[:,:10]\n",
    "data = pd.concat([data1,data2],axis=1)"
   ]
  },
  {
   "cell_type": "code",
   "execution_count": 24,
   "id": "988c9560",
   "metadata": {},
   "outputs": [
    {
     "name": "stdout",
     "output_type": "stream",
     "text": [
      "chr6 done!\n"
     ]
    }
   ],
   "source": [
    "transfer_person('./data/person_t/chr6', data)\n",
    "print('chr6 done!')"
   ]
  }
 ],
 "metadata": {
  "kernelspec": {
   "display_name": "Python 3 (ipykernel)",
   "language": "python",
   "name": "python3"
  },
  "language_info": {
   "codemirror_mode": {
    "name": "ipython",
    "version": 3
   },
   "file_extension": ".py",
   "mimetype": "text/x-python",
   "name": "python",
   "nbconvert_exporter": "python",
   "pygments_lexer": "ipython3",
   "version": "3.9.12"
  }
 },
 "nbformat": 4,
 "nbformat_minor": 5
}
